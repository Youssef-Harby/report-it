{
 "cells": [
  {
   "cell_type": "code",
   "execution_count": 38,
   "metadata": {},
   "outputs": [],
   "source": [
    "import geopandas\n",
    "import libpysal\n",
    "from tobler.util import h3fy\n",
    "from tobler.area_weighted import area_interpolate"
   ]
  },
  {
   "cell_type": "code",
   "execution_count": 39,
   "metadata": {},
   "outputs": [],
   "source": [
    "dc = geopandas.read_file('../Data/Pol/pol1.zip').to_crs(\"EPSG:3857\") #Polygon"
   ]
  },
  {
   "cell_type": "code",
   "execution_count": 40,
   "metadata": {},
   "outputs": [],
   "source": [
    "def testArea():\n",
    "    dc_hex_clipped = h3fy(dc, resolution=5.2, clip=True)\n",
    "    dc_hex_interpolated = area_interpolate(source_df=dc, target_df=dc_hex_clipped, intensive_variables=['PM2.5'])\n",
    "    return dc_hex_interpolated"
   ]
  },
  {
   "cell_type": "code",
   "execution_count": 41,
   "metadata": {},
   "outputs": [],
   "source": [
    "import concurrent.futures"
   ]
  },
  {
   "cell_type": "code",
   "execution_count": 42,
   "metadata": {},
   "outputs": [],
   "source": [
    "with concurrent.futures.ThreadPoolExecutor() as executor:\n",
    "            f1 = executor.submit(testArea)\n",
    "\n",
    "gdf = f1.result()"
   ]
  },
  {
   "cell_type": "code",
   "execution_count": 43,
   "metadata": {},
   "outputs": [],
   "source": [
    "import leafmap.kepler as leafmap"
   ]
  },
  {
   "cell_type": "code",
   "execution_count": 44,
   "metadata": {},
   "outputs": [
    {
     "data": {
      "application/vnd.jupyter.widget-view+json": {
       "model_id": "6c37ca01f32746f99dac21028a1aa947",
       "version_major": 2,
       "version_minor": 0
      },
      "text/plain": [
       "Map(config={'version': 'v1', 'config': {'mapState': {'latitude': 20, 'longitude': 0, 'zoom': 1.3, 'bearing': 0…"
      ]
     },
     "metadata": {},
     "output_type": "display_data"
    }
   ],
   "source": [
    "m = leafmap.Map()\n",
    "m.add_gdf(gdf)\n",
    "m"
   ]
  },
  {
   "cell_type": "code",
   "execution_count": null,
   "metadata": {},
   "outputs": [],
   "source": []
  }
 ],
 "metadata": {
  "interpreter": {
   "hash": "c2c3639f316740832002486dd26ba6b6250f1d86931da03b63eb8e91805d4fe1"
  },
  "kernelspec": {
   "display_name": "Python 3.9.10 64-bit",
   "language": "python",
   "name": "python3"
  },
  "language_info": {
   "codemirror_mode": {
    "name": "ipython",
    "version": 3
   },
   "file_extension": ".py",
   "mimetype": "text/x-python",
   "name": "python",
   "nbconvert_exporter": "python",
   "pygments_lexer": "ipython3",
   "version": "3.9.10"
  },
  "orig_nbformat": 4
 },
 "nbformat": 4,
 "nbformat_minor": 2
}
