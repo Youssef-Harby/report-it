{
 "cells": [
  {
   "cell_type": "code",
   "execution_count": 62,
   "metadata": {},
   "outputs": [],
   "source": [
    "import geopandas"
   ]
  },
  {
   "cell_type": "code",
   "execution_count": 63,
   "metadata": {},
   "outputs": [
    {
     "data": {
      "text/html": [
       "<div>\n",
       "<style scoped>\n",
       "    .dataframe tbody tr th:only-of-type {\n",
       "        vertical-align: middle;\n",
       "    }\n",
       "\n",
       "    .dataframe tbody tr th {\n",
       "        vertical-align: top;\n",
       "    }\n",
       "\n",
       "    .dataframe thead th {\n",
       "        text-align: right;\n",
       "    }\n",
       "</style>\n",
       "<table border=\"1\" class=\"dataframe\">\n",
       "  <thead>\n",
       "    <tr style=\"text-align: right;\">\n",
       "      <th></th>\n",
       "      <th>id</th>\n",
       "      <th>type</th>\n",
       "      <th>lat</th>\n",
       "      <th>lon</th>\n",
       "      <th>timestamp</th>\n",
       "      <th>effect</th>\n",
       "      <th>description</th>\n",
       "      <th>solved</th>\n",
       "      <th>solved_time</th>\n",
       "      <th>geometry</th>\n",
       "    </tr>\n",
       "  </thead>\n",
       "  <tbody>\n",
       "    <tr>\n",
       "      <th>0</th>\n",
       "      <td>1.0</td>\n",
       "      <td>1</td>\n",
       "      <td>None</td>\n",
       "      <td>None</td>\n",
       "      <td>2022-03-07T10:27:13</td>\n",
       "      <td>5</td>\n",
       "      <td>None</td>\n",
       "      <td>False</td>\n",
       "      <td>None</td>\n",
       "      <td>POINT (31.47728 30.04280)</td>\n",
       "    </tr>\n",
       "    <tr>\n",
       "      <th>1</th>\n",
       "      <td>NaN</td>\n",
       "      <td>2</td>\n",
       "      <td>None</td>\n",
       "      <td>None</td>\n",
       "      <td>2022-03-06T00:00:00</td>\n",
       "      <td>3</td>\n",
       "      <td>SH1</td>\n",
       "      <td>True</td>\n",
       "      <td>2022-03-08T11:08:13</td>\n",
       "      <td>POINT (31.62430 30.13048)</td>\n",
       "    </tr>\n",
       "  </tbody>\n",
       "</table>\n",
       "</div>"
      ],
      "text/plain": [
       "    id  type   lat   lon            timestamp  effect description  solved  \\\n",
       "0  1.0     1  None  None  2022-03-07T10:27:13       5        None   False   \n",
       "1  NaN     2  None  None  2022-03-06T00:00:00       3         SH1    True   \n",
       "\n",
       "           solved_time                   geometry  \n",
       "0                 None  POINT (31.47728 30.04280)  \n",
       "1  2022-03-08T11:08:13  POINT (31.62430 30.13048)  "
      ]
     },
     "execution_count": 63,
     "metadata": {},
     "output_type": "execute_result"
    },
    {
     "data": {
      "image/png": "[encoded data removed]",
      "text/plain": [
       "<Figure size 432x288 with 1 Axes>"
      ]
     },
     "metadata": {
      "needs_background": "light"
     },
     "output_type": "display_data"
    }
   ],
   "source": [
    "pint = geopandas.read_file(\"../Data/NewCairoPointsDemo/NewCairoPointsDemo.gpkg\", layer='NewCairoPointsDemo')\n",
    "pint.plot()\n",
    "pint.head()"
   ]
  },
  {
   "cell_type": "code",
   "execution_count": 64,
   "metadata": {},
   "outputs": [
    {
     "data": {
      "text/plain": [
       "'{\"type\": \"FeatureCollection\", \"features\": [{\"id\": \"0\", \"type\": \"Feature\", \"properties\": {\"description\": null, \"effect\": 5, \"id\": 1.0, \"lat\": null, \"lon\": null, \"solved\": false, \"solved_time\": null, \"timestamp\": \"2022-03-07T10:27:13\", \"type\": 1}, \"geometry\": {\"type\": \"Point\", \"coordinates\": [31.47728173552867, 30.042802808846783]}}, {\"id\": \"1\", \"type\": \"Feature\", \"properties\": {\"description\": \"SH1\", \"effect\": 3, \"id\": null, \"lat\": null, \"lon\": null, \"solved\": true, \"solved_time\": \"2022-03-08T11:08:13\", \"timestamp\": \"2022-03-06T00:00:00\", \"type\": 2}, \"geometry\": {\"type\": \"Point\", \"coordinates\": [31.62429896952351, 30.130480795087898]}}]}'"
      ]
     },
     "execution_count": 64,
     "metadata": {},
     "output_type": "execute_result"
    }
   ],
   "source": [
    "pint.to_json()"
   ]
  },
  {
   "cell_type": "code",
   "execution_count": 65,
   "metadata": {},
   "outputs": [
    {
     "data": {
      "text/html": [
       "<div>\n",
       "<style scoped>\n",
       "    .dataframe tbody tr th:only-of-type {\n",
       "        vertical-align: middle;\n",
       "    }\n",
       "\n",
       "    .dataframe tbody tr th {\n",
       "        vertical-align: top;\n",
       "    }\n",
       "\n",
       "    .dataframe thead th {\n",
       "        text-align: right;\n",
       "    }\n",
       "</style>\n",
       "<table border=\"1\" class=\"dataframe\">\n",
       "  <thead>\n",
       "    <tr style=\"text-align: right;\">\n",
       "      <th></th>\n",
       "      <th>ADM3_EN</th>\n",
       "      <th>ADM3_AR</th>\n",
       "      <th>ADM3_PCODE</th>\n",
       "      <th>ADM3_REF</th>\n",
       "      <th>ADM3ALT1EN</th>\n",
       "      <th>ADM3ALT2EN</th>\n",
       "      <th>ADM3ALT1AR</th>\n",
       "      <th>ADM3ALT2AR</th>\n",
       "      <th>ADM2_EN</th>\n",
       "      <th>ADM2_AR</th>\n",
       "      <th>...</th>\n",
       "      <th>ADM1_PCODE</th>\n",
       "      <th>ADM0_EN</th>\n",
       "      <th>ADM0_AR</th>\n",
       "      <th>ADM0_PCODE</th>\n",
       "      <th>date</th>\n",
       "      <th>validOn</th>\n",
       "      <th>validTo</th>\n",
       "      <th>Shape_Leng</th>\n",
       "      <th>Shape_Area</th>\n",
       "      <th>geometry</th>\n",
       "    </tr>\n",
       "  </thead>\n",
       "  <tbody>\n",
       "    <tr>\n",
       "      <th>0</th>\n",
       "      <td>None</td>\n",
       "      <td>اسكان مبارك للشباب</td>\n",
       "      <td>EG013902</td>\n",
       "      <td>None</td>\n",
       "      <td>None</td>\n",
       "      <td>None</td>\n",
       "      <td>None</td>\n",
       "      <td>None</td>\n",
       "      <td>New Cairo-3</td>\n",
       "      <td>قسم ثالث القاهرة الجديدة</td>\n",
       "      <td>...</td>\n",
       "      <td>EG01</td>\n",
       "      <td>Egypt</td>\n",
       "      <td>مِصر</td>\n",
       "      <td>EG</td>\n",
       "      <td>2006-01-01</td>\n",
       "      <td>2017-04-21</td>\n",
       "      <td>None</td>\n",
       "      <td>0.146695</td>\n",
       "      <td>0.000691</td>\n",
       "      <td>POLYGON ((31.44780 29.97539, 31.42257 29.97428...</td>\n",
       "    </tr>\n",
       "    <tr>\n",
       "      <th>1</th>\n",
       "      <td>None</td>\n",
       "      <td>اكاديميه الشرطه و الميراج</td>\n",
       "      <td>EG013803</td>\n",
       "      <td>None</td>\n",
       "      <td>None</td>\n",
       "      <td>None</td>\n",
       "      <td>None</td>\n",
       "      <td>None</td>\n",
       "      <td>New Cairo-2</td>\n",
       "      <td>قسم ثان القاهرة الجديدة</td>\n",
       "      <td>...</td>\n",
       "      <td>EG01</td>\n",
       "      <td>Egypt</td>\n",
       "      <td>مِصر</td>\n",
       "      <td>EG</td>\n",
       "      <td>2006-01-01</td>\n",
       "      <td>2017-04-21</td>\n",
       "      <td>None</td>\n",
       "      <td>0.155351</td>\n",
       "      <td>0.001301</td>\n",
       "      <td>POLYGON ((31.45107 30.07614, 31.44928 30.07136...</td>\n",
       "    </tr>\n",
       "    <tr>\n",
       "      <th>2</th>\n",
       "      <td>None</td>\n",
       "      <td>الانشطه</td>\n",
       "      <td>EG013903</td>\n",
       "      <td>None</td>\n",
       "      <td>None</td>\n",
       "      <td>None</td>\n",
       "      <td>None</td>\n",
       "      <td>None</td>\n",
       "      <td>New Cairo-3</td>\n",
       "      <td>قسم ثالث القاهرة الجديدة</td>\n",
       "      <td>...</td>\n",
       "      <td>EG01</td>\n",
       "      <td>Egypt</td>\n",
       "      <td>مِصر</td>\n",
       "      <td>EG</td>\n",
       "      <td>2006-01-01</td>\n",
       "      <td>2017-04-21</td>\n",
       "      <td>None</td>\n",
       "      <td>0.140649</td>\n",
       "      <td>0.000837</td>\n",
       "      <td>POLYGON ((31.41760 29.99413, 31.41831 29.98809...</td>\n",
       "    </tr>\n",
       "    <tr>\n",
       "      <th>3</th>\n",
       "      <td>None</td>\n",
       "      <td>التجمع الخامس</td>\n",
       "      <td>EG013701</td>\n",
       "      <td>None</td>\n",
       "      <td>None</td>\n",
       "      <td>None</td>\n",
       "      <td>None</td>\n",
       "      <td>None</td>\n",
       "      <td>New Cairo-1</td>\n",
       "      <td>قسم أول القاهرة الجديدة</td>\n",
       "      <td>...</td>\n",
       "      <td>EG01</td>\n",
       "      <td>Egypt</td>\n",
       "      <td>مِصر</td>\n",
       "      <td>EG</td>\n",
       "      <td>2006-01-01</td>\n",
       "      <td>2017-04-21</td>\n",
       "      <td>None</td>\n",
       "      <td>0.140995</td>\n",
       "      <td>0.001107</td>\n",
       "      <td>POLYGON ((31.44686 29.99994, 31.44698 29.99460...</td>\n",
       "    </tr>\n",
       "    <tr>\n",
       "      <th>4</th>\n",
       "      <td>None</td>\n",
       "      <td>الرحاب و المستثمرون</td>\n",
       "      <td>EG013801</td>\n",
       "      <td>None</td>\n",
       "      <td>None</td>\n",
       "      <td>None</td>\n",
       "      <td>None</td>\n",
       "      <td>None</td>\n",
       "      <td>New Cairo-2</td>\n",
       "      <td>قسم ثان القاهرة الجديدة</td>\n",
       "      <td>...</td>\n",
       "      <td>EG01</td>\n",
       "      <td>Egypt</td>\n",
       "      <td>مِصر</td>\n",
       "      <td>EG</td>\n",
       "      <td>2006-01-01</td>\n",
       "      <td>2017-04-21</td>\n",
       "      <td>None</td>\n",
       "      <td>0.268155</td>\n",
       "      <td>0.002957</td>\n",
       "      <td>POLYGON ((31.52336 30.04530, 31.52241 30.04456...</td>\n",
       "    </tr>\n",
       "  </tbody>\n",
       "</table>\n",
       "<p>5 rows × 23 columns</p>\n",
       "</div>"
      ],
      "text/plain": [
       "  ADM3_EN                    ADM3_AR ADM3_PCODE ADM3_REF ADM3ALT1EN  \\\n",
       "0    None         اسكان مبارك للشباب   EG013902     None       None   \n",
       "1    None  اكاديميه الشرطه و الميراج   EG013803     None       None   \n",
       "2    None                    الانشطه   EG013903     None       None   \n",
       "3    None              التجمع الخامس   EG013701     None       None   \n",
       "4    None        الرحاب و المستثمرون   EG013801     None       None   \n",
       "\n",
       "  ADM3ALT2EN ADM3ALT1AR ADM3ALT2AR      ADM2_EN                   ADM2_AR  \\\n",
       "0       None       None       None  New Cairo-3  قسم ثالث القاهرة الجديدة   \n",
       "1       None       None       None  New Cairo-2   قسم ثان القاهرة الجديدة   \n",
       "2       None       None       None  New Cairo-3  قسم ثالث القاهرة الجديدة   \n",
       "3       None       None       None  New Cairo-1   قسم أول القاهرة الجديدة   \n",
       "4       None       None       None  New Cairo-2   قسم ثان القاهرة الجديدة   \n",
       "\n",
       "   ... ADM1_PCODE ADM0_EN ADM0_AR ADM0_PCODE        date     validOn validTo  \\\n",
       "0  ...       EG01   Egypt    مِصر         EG  2006-01-01  2017-04-21    None   \n",
       "1  ...       EG01   Egypt    مِصر         EG  2006-01-01  2017-04-21    None   \n",
       "2  ...       EG01   Egypt    مِصر         EG  2006-01-01  2017-04-21    None   \n",
       "3  ...       EG01   Egypt    مِصر         EG  2006-01-01  2017-04-21    None   \n",
       "4  ...       EG01   Egypt    مِصر         EG  2006-01-01  2017-04-21    None   \n",
       "\n",
       "  Shape_Leng Shape_Area                                           geometry  \n",
       "0   0.146695   0.000691  POLYGON ((31.44780 29.97539, 31.42257 29.97428...  \n",
       "1   0.155351   0.001301  POLYGON ((31.45107 30.07614, 31.44928 30.07136...  \n",
       "2   0.140649   0.000837  POLYGON ((31.41760 29.99413, 31.41831 29.98809...  \n",
       "3   0.140995   0.001107  POLYGON ((31.44686 29.99994, 31.44698 29.99460...  \n",
       "4   0.268155   0.002957  POLYGON ((31.52336 30.04530, 31.52241 30.04456...  \n",
       "\n",
       "[5 rows x 23 columns]"
      ]
     },
     "execution_count": 65,
     "metadata": {},
     "output_type": "execute_result"
    },
    {
     "data": {
      "image/png": "[encoded data removed]",
      "text/plain": [
       "<Figure size 432x288 with 1 Axes>"
      ]
     },
     "metadata": {
      "needs_background": "light"
     },
     "output_type": "display_data"
    }
   ],
   "source": [
    "poly = geopandas.read_file(\"../Data/NewCairoPolyDemo/NewCairoPolyDemo.shp\")\n",
    "poly.plot()\n",
    "poly.head()"
   ]
  },
  {
   "cell_type": "code",
   "execution_count": 66,
   "metadata": {},
   "outputs": [
    {
     "data": {
      "text/html": [
       "<div>\n",
       "<style scoped>\n",
       "    .dataframe tbody tr th:only-of-type {\n",
       "        vertical-align: middle;\n",
       "    }\n",
       "\n",
       "    .dataframe tbody tr th {\n",
       "        vertical-align: top;\n",
       "    }\n",
       "\n",
       "    .dataframe thead th {\n",
       "        text-align: right;\n",
       "    }\n",
       "</style>\n",
       "<table border=\"1\" class=\"dataframe\">\n",
       "  <thead>\n",
       "    <tr style=\"text-align: right;\">\n",
       "      <th></th>\n",
       "      <th>id</th>\n",
       "      <th>type</th>\n",
       "      <th>lat</th>\n",
       "      <th>lon</th>\n",
       "      <th>timestamp</th>\n",
       "      <th>effect</th>\n",
       "      <th>description</th>\n",
       "      <th>solved</th>\n",
       "      <th>solved_time</th>\n",
       "      <th>geometry</th>\n",
       "      <th>index_right</th>\n",
       "      <th>ADM3_AR</th>\n",
       "    </tr>\n",
       "  </thead>\n",
       "  <tbody>\n",
       "    <tr>\n",
       "      <th>0</th>\n",
       "      <td>1.0</td>\n",
       "      <td>1</td>\n",
       "      <td>None</td>\n",
       "      <td>None</td>\n",
       "      <td>2022-03-07T10:27:13</td>\n",
       "      <td>5</td>\n",
       "      <td>None</td>\n",
       "      <td>False</td>\n",
       "      <td>None</td>\n",
       "      <td>POINT (31.47728 30.04280)</td>\n",
       "      <td>8</td>\n",
       "      <td>الياسمين و البنفسج و المثتس</td>\n",
       "    </tr>\n",
       "    <tr>\n",
       "      <th>1</th>\n",
       "      <td>NaN</td>\n",
       "      <td>2</td>\n",
       "      <td>None</td>\n",
       "      <td>None</td>\n",
       "      <td>2022-03-06T00:00:00</td>\n",
       "      <td>3</td>\n",
       "      <td>SH1</td>\n",
       "      <td>True</td>\n",
       "      <td>2022-03-08T11:08:13</td>\n",
       "      <td>POINT (31.62430 30.13048)</td>\n",
       "      <td>15</td>\n",
       "      <td>شياخة الشروق 2</td>\n",
       "    </tr>\n",
       "  </tbody>\n",
       "</table>\n",
       "</div>"
      ],
      "text/plain": [
       "    id  type   lat   lon            timestamp  effect description  solved  \\\n",
       "0  1.0     1  None  None  2022-03-07T10:27:13       5        None   False   \n",
       "1  NaN     2  None  None  2022-03-06T00:00:00       3         SH1    True   \n",
       "\n",
       "           solved_time                   geometry  index_right  \\\n",
       "0                 None  POINT (31.47728 30.04280)            8   \n",
       "1  2022-03-08T11:08:13  POINT (31.62430 30.13048)           15   \n",
       "\n",
       "                       ADM3_AR  \n",
       "0  الياسمين و البنفسج و المثتس  \n",
       "1               شياخة الشروق 2  "
      ]
     },
     "execution_count": 66,
     "metadata": {},
     "output_type": "execute_result"
    }
   ],
   "source": [
    "geopandas.sjoin(pint, poly[['ADM3_AR', 'geometry']], how='left')"
   ]
  },
  {
   "cell_type": "code",
   "execution_count": 67,
   "metadata": {},
   "outputs": [
    {
     "data": {
      "text/html": [
       "<div>\n",
       "<style scoped>\n",
       "    .dataframe tbody tr th:only-of-type {\n",
       "        vertical-align: middle;\n",
       "    }\n",
       "\n",
       "    .dataframe tbody tr th {\n",
       "        vertical-align: top;\n",
       "    }\n",
       "\n",
       "    .dataframe thead th {\n",
       "        text-align: right;\n",
       "    }\n",
       "</style>\n",
       "<table border=\"1\" class=\"dataframe\">\n",
       "  <thead>\n",
       "    <tr style=\"text-align: right;\">\n",
       "      <th></th>\n",
       "      <th>id</th>\n",
       "      <th>type</th>\n",
       "      <th>lat</th>\n",
       "      <th>lon</th>\n",
       "      <th>timestamp</th>\n",
       "      <th>effect</th>\n",
       "      <th>description</th>\n",
       "      <th>solved</th>\n",
       "      <th>solved_time</th>\n",
       "      <th>geometry</th>\n",
       "      <th>...</th>\n",
       "      <th>ADM1_AR</th>\n",
       "      <th>ADM1_PCODE</th>\n",
       "      <th>ADM0_EN</th>\n",
       "      <th>ADM0_AR</th>\n",
       "      <th>ADM0_PCODE</th>\n",
       "      <th>date</th>\n",
       "      <th>validOn</th>\n",
       "      <th>validTo</th>\n",
       "      <th>Shape_Leng</th>\n",
       "      <th>Shape_Area</th>\n",
       "    </tr>\n",
       "  </thead>\n",
       "  <tbody>\n",
       "    <tr>\n",
       "      <th>0</th>\n",
       "      <td>1.0</td>\n",
       "      <td>1</td>\n",
       "      <td>None</td>\n",
       "      <td>None</td>\n",
       "      <td>2022-03-07T10:27:13</td>\n",
       "      <td>5</td>\n",
       "      <td>None</td>\n",
       "      <td>False</td>\n",
       "      <td>None</td>\n",
       "      <td>POINT (31.47728 30.04280)</td>\n",
       "      <td>...</td>\n",
       "      <td>القاهرة</td>\n",
       "      <td>EG01</td>\n",
       "      <td>Egypt</td>\n",
       "      <td>مِصر</td>\n",
       "      <td>EG</td>\n",
       "      <td>2006-01-01</td>\n",
       "      <td>2017-04-21</td>\n",
       "      <td>None</td>\n",
       "      <td>0.293443</td>\n",
       "      <td>0.002997</td>\n",
       "    </tr>\n",
       "    <tr>\n",
       "      <th>1</th>\n",
       "      <td>NaN</td>\n",
       "      <td>2</td>\n",
       "      <td>None</td>\n",
       "      <td>None</td>\n",
       "      <td>2022-03-06T00:00:00</td>\n",
       "      <td>3</td>\n",
       "      <td>SH1</td>\n",
       "      <td>True</td>\n",
       "      <td>2022-03-08T11:08:13</td>\n",
       "      <td>POINT (31.62430 30.13048)</td>\n",
       "      <td>...</td>\n",
       "      <td>القاهرة</td>\n",
       "      <td>EG01</td>\n",
       "      <td>Egypt</td>\n",
       "      <td>مِصر</td>\n",
       "      <td>EG</td>\n",
       "      <td>2006-01-01</td>\n",
       "      <td>2017-04-21</td>\n",
       "      <td>None</td>\n",
       "      <td>0.214647</td>\n",
       "      <td>0.002595</td>\n",
       "    </tr>\n",
       "  </tbody>\n",
       "</table>\n",
       "<p>2 rows × 33 columns</p>\n",
       "</div>"
      ],
      "text/plain": [
       "    id  type   lat   lon            timestamp  effect description  solved  \\\n",
       "0  1.0     1  None  None  2022-03-07T10:27:13       5        None   False   \n",
       "1  NaN     2  None  None  2022-03-06T00:00:00       3         SH1    True   \n",
       "\n",
       "           solved_time                   geometry  ...  ADM1_AR ADM1_PCODE  \\\n",
       "0                 None  POINT (31.47728 30.04280)  ...  القاهرة       EG01   \n",
       "1  2022-03-08T11:08:13  POINT (31.62430 30.13048)  ...  القاهرة       EG01   \n",
       "\n",
       "  ADM0_EN ADM0_AR ADM0_PCODE        date     validOn validTo Shape_Leng  \\\n",
       "0   Egypt    مِصر         EG  2006-01-01  2017-04-21    None   0.293443   \n",
       "1   Egypt    مِصر         EG  2006-01-01  2017-04-21    None   0.214647   \n",
       "\n",
       "  Shape_Area  \n",
       "0   0.002997  \n",
       "1   0.002595  \n",
       "\n",
       "[2 rows x 33 columns]"
      ]
     },
     "execution_count": 67,
     "metadata": {},
     "output_type": "execute_result"
    }
   ],
   "source": [
    "geopandas.sjoin_nearest(pint, poly, how='inner', max_distance=5,lsuffix='left')"
   ]
  },
  {
   "cell_type": "code",
   "execution_count": 75,
   "metadata": {},
   "outputs": [],
   "source": [
    "import folium\n",
    "import pandas as pd"
   ]
  },
  {
   "cell_type": "code",
   "execution_count": 76,
   "metadata": {},
   "outputs": [
    {
     "name": "stdout",
     "output_type": "stream",
     "text": [
      "                                              0\n",
      "0  POINT (31.47728173552867 30.042802808846783)\n",
      "1  POINT (31.62429896952351 30.130480795087898)\n"
     ]
    }
   ],
   "source": [
    "coordinateslist = pint['geometry'].tolist()\n",
    "df1 = pd.DataFrame(coordinateslist)\n",
    "print(df1)"
   ]
  },
  {
   "cell_type": "code",
   "execution_count": 77,
   "metadata": {},
   "outputs": [
    {
     "name": "stdout",
     "output_type": "stream",
     "text": [
      "                                              0  \\\n",
      "0  POINT (31.47728173552867 30.042802808846783)   \n",
      "\n",
      "                                              1  \n",
      "0  POINT (31.62429896952351 30.130480795087898)  \n"
     ]
    }
   ],
   "source": [
    "result = df1.transpose()\n",
    "print(result)"
   ]
  },
  {
   "cell_type": "code",
   "execution_count": 80,
   "metadata": {},
   "outputs": [
    {
     "data": {
      "text/html": [
       "<div style=\"width:100%;\"><div style=\"position:relative;width:100%;height:0;padding-bottom:60%;\"><span style=\"color:#565656\">Make this Notebook Trusted to load map: File -> Trust Notebook</span><iframe src=\"about:blank\" style=\"position:absolute;width:100%;height:100%;left:0;top:0;border:none !important;\" data-html=%3C%21DOCTYPE%20html%3E%0A%3Chead%3E%20%20%20%20%0A%20%20%20%20%3Cmeta%20http-equiv%3D%22content-type%22%20content%3D%22text/html%3B%20charset%3DUTF-8%22%20/%3E%0A%20%20%20%20%0A%20%20%20%20%20%20%20%20%3Cscript%3E%0A%20%20%20%20%20%20%20%20%20%20%20%20L_NO_TOUCH%20%3D%20false%3B%0A%20%20%20%20%20%20%20%20%20%20%20%20L_DISABLE_3D%20%3D%20false%3B%0A%20%20%20%20%20%20%20%20%3C/script%3E%0A%20%20%20%20%0A%20%20%20%20%3Cstyle%3Ehtml%2C%20body%20%7Bwidth%3A%20100%25%3Bheight%3A%20100%25%3Bmargin%3A%200%3Bpadding%3A%200%3B%7D%3C/style%3E%0A%20%20%20%20%3Cstyle%3E%23map%20%7Bposition%3Aabsolute%3Btop%3A0%3Bbottom%3A0%3Bright%3A0%3Bleft%3A0%3B%7D%3C/style%3E%0A%20%20%20%20%3Cscript%20src%3D%22https%3A//cdn.jsdelivr.net/npm/leaflet%401.6.0/dist/leaflet.js%22%3E%3C/script%3E%0A%20%20%20%20%3Cscript%20src%3D%22https%3A//code.jquery.com/jquery-1.12.4.min.js%22%3E%3C/script%3E%0A%20%20%20%20%3Cscript%20src%3D%22https%3A//maxcdn.bootstrapcdn.com/bootstrap/3.2.0/js/bootstrap.min.js%22%3E%3C/script%3E%0A%20%20%20%20%3Cscript%20src%3D%22https%3A//cdnjs.cloudflare.com/ajax/libs/Leaflet.awesome-markers/2.0.2/leaflet.awesome-markers.js%22%3E%3C/script%3E%0A%20%20%20%20%3Clink%20rel%3D%22stylesheet%22%20href%3D%22https%3A//cdn.jsdelivr.net/npm/leaflet%401.6.0/dist/leaflet.css%22/%3E%0A%20%20%20%20%3Clink%20rel%3D%22stylesheet%22%20href%3D%22https%3A//maxcdn.bootstrapcdn.com/bootstrap/3.2.0/css/bootstrap.min.css%22/%3E%0A%20%20%20%20%3Clink%20rel%3D%22stylesheet%22%20href%3D%22https%3A//maxcdn.bootstrapcdn.com/bootstrap/3.2.0/css/bootstrap-theme.min.css%22/%3E%0A%20%20%20%20%3Clink%20rel%3D%22stylesheet%22%20href%3D%22https%3A//maxcdn.bootstrapcdn.com/font-awesome/4.6.3/css/font-awesome.min.css%22/%3E%0A%20%20%20%20%3Clink%20rel%3D%22stylesheet%22%20href%3D%22https%3A//cdnjs.cloudflare.com/ajax/libs/Leaflet.awesome-markers/2.0.2/leaflet.awesome-markers.css%22/%3E%0A%20%20%20%20%3Clink%20rel%3D%22stylesheet%22%20href%3D%22https%3A//cdn.jsdelivr.net/gh/python-visualization/folium/folium/templates/leaflet.awesome.rotate.min.css%22/%3E%0A%20%20%20%20%0A%20%20%20%20%20%20%20%20%20%20%20%20%3Cmeta%20name%3D%22viewport%22%20content%3D%22width%3Ddevice-width%2C%0A%20%20%20%20%20%20%20%20%20%20%20%20%20%20%20%20initial-scale%3D1.0%2C%20maximum-scale%3D1.0%2C%20user-scalable%3Dno%22%20/%3E%0A%20%20%20%20%20%20%20%20%20%20%20%20%3Cstyle%3E%0A%20%20%20%20%20%20%20%20%20%20%20%20%20%20%20%20%23map_19249d7dd29c4e86a471742dd3e998df%20%7B%0A%20%20%20%20%20%20%20%20%20%20%20%20%20%20%20%20%20%20%20%20position%3A%20relative%3B%0A%20%20%20%20%20%20%20%20%20%20%20%20%20%20%20%20%20%20%20%20width%3A%20100.0%25%3B%0A%20%20%20%20%20%20%20%20%20%20%20%20%20%20%20%20%20%20%20%20height%3A%20100.0%25%3B%0A%20%20%20%20%20%20%20%20%20%20%20%20%20%20%20%20%20%20%20%20left%3A%200.0%25%3B%0A%20%20%20%20%20%20%20%20%20%20%20%20%20%20%20%20%20%20%20%20top%3A%200.0%25%3B%0A%20%20%20%20%20%20%20%20%20%20%20%20%20%20%20%20%7D%0A%20%20%20%20%20%20%20%20%20%20%20%20%3C/style%3E%0A%20%20%20%20%20%20%20%20%0A%20%20%20%20%0A%20%20%20%20%20%20%20%20%20%20%20%20%20%20%20%20%20%20%20%20%3Cstyle%3E%0A%20%20%20%20%20%20%20%20%20%20%20%20%20%20%20%20%20%20%20%20%20%20%20%20.foliumtooltip%20%7B%0A%20%20%20%20%20%20%20%20%20%20%20%20%20%20%20%20%20%20%20%20%20%20%20%20%20%20%20%20%0A%20%20%20%20%20%20%20%20%20%20%20%20%20%20%20%20%20%20%20%20%20%20%20%20%7D%0A%20%20%20%20%20%20%20%20%20%20%20%20%20%20%20%20%20%20%20%20%20%20%20.foliumtooltip%20table%7B%0A%20%20%20%20%20%20%20%20%20%20%20%20%20%20%20%20%20%20%20%20%20%20%20%20%20%20%20%20margin%3A%20auto%3B%0A%20%20%20%20%20%20%20%20%20%20%20%20%20%20%20%20%20%20%20%20%20%20%20%20%7D%0A%20%20%20%20%20%20%20%20%20%20%20%20%20%20%20%20%20%20%20%20%20%20%20%20.foliumtooltip%20tr%7B%0A%20%20%20%20%20%20%20%20%20%20%20%20%20%20%20%20%20%20%20%20%20%20%20%20%20%20%20%20text-align%3A%20left%3B%0A%20%20%20%20%20%20%20%20%20%20%20%20%20%20%20%20%20%20%20%20%20%20%20%20%7D%0A%20%20%20%20%20%20%20%20%20%20%20%20%20%20%20%20%20%20%20%20%20%20%20%20.foliumtooltip%20th%7B%0A%20%20%20%20%20%20%20%20%20%20%20%20%20%20%20%20%20%20%20%20%20%20%20%20%20%20%20%20padding%3A%202px%3B%20padding-right%3A%208px%3B%0A%20%20%20%20%20%20%20%20%20%20%20%20%20%20%20%20%20%20%20%20%20%20%20%20%7D%0A%20%20%20%20%20%20%20%20%20%20%20%20%20%20%20%20%20%20%20%20%3C/style%3E%0A%20%20%20%20%20%20%20%20%20%20%20%20%0A%3C/head%3E%0A%3Cbody%3E%20%20%20%20%0A%20%20%20%20%0A%20%20%20%20%20%20%20%20%20%20%20%20%3Cdiv%20class%3D%22folium-map%22%20id%3D%22map_19249d7dd29c4e86a471742dd3e998df%22%20%3E%3C/div%3E%0A%20%20%20%20%20%20%20%20%0A%3C/body%3E%0A%3Cscript%3E%20%20%20%20%0A%20%20%20%20%0A%20%20%20%20%20%20%20%20%20%20%20%20var%20map_19249d7dd29c4e86a471742dd3e998df%20%3D%20L.map%28%0A%20%20%20%20%20%20%20%20%20%20%20%20%20%20%20%20%22map_19249d7dd29c4e86a471742dd3e998df%22%2C%0A%20%20%20%20%20%20%20%20%20%20%20%20%20%20%20%20%7B%0A%20%20%20%20%20%20%20%20%20%20%20%20%20%20%20%20%20%20%20%20center%3A%20%5B30.06913435000004%2C%2031.566861579500056%5D%2C%0A%20%20%20%20%20%20%20%20%20%20%20%20%20%20%20%20%20%20%20%20crs%3A%20L.CRS.EPSG3857%2C%0A%20%20%20%20%20%20%20%20%20%20%20%20%20%20%20%20%20%20%20%20zoom%3A%2010%2C%0A%20%20%20%20%20%20%20%20%20%20%20%20%20%20%20%20%20%20%20%20zoomControl%3A%20true%2C%0A%20%20%20%20%20%20%20%20%20%20%20%20%20%20%20%20%20%20%20%20preferCanvas%3A%20false%2C%0A%20%20%20%20%20%20%20%20%20%20%20%20%20%20%20%20%7D%0A%20%20%20%20%20%20%20%20%20%20%20%20%29%3B%0A%20%20%20%20%20%20%20%20%20%20%20%20L.control.scale%28%29.addTo%28map_19249d7dd29c4e86a471742dd3e998df%29%3B%0A%0A%20%20%20%20%20%20%20%20%20%20%20%20%0A%0A%20%20%20%20%20%20%20%20%0A%20%20%20%20%0A%20%20%20%20%20%20%20%20%20%20%20%20var%20tile_layer_c9b3323f7c3c4fbcb175134eedeb37a0%20%3D%20L.tileLayer%28%0A%20%20%20%20%20%20%20%20%20%20%20%20%20%20%20%20%22https%3A//%7Bs%7D.tile.openstreetmap.org/%7Bz%7D/%7Bx%7D/%7By%7D.png%22%2C%0A%20%20%20%20%20%20%20%20%20%20%20%20%20%20%20%20%7B%22attribution%22%3A%20%22Data%20by%20%5Cu0026copy%3B%20%5Cu003ca%20href%3D%5C%22http%3A//openstreetmap.org%5C%22%5Cu003eOpenStreetMap%5Cu003c/a%5Cu003e%2C%20under%20%5Cu003ca%20href%3D%5C%22http%3A//www.openstreetmap.org/copyright%5C%22%5Cu003eODbL%5Cu003c/a%5Cu003e.%22%2C%20%22detectRetina%22%3A%20false%2C%20%22maxNativeZoom%22%3A%2018%2C%20%22maxZoom%22%3A%2018%2C%20%22minZoom%22%3A%200%2C%20%22noWrap%22%3A%20false%2C%20%22opacity%22%3A%201%2C%20%22subdomains%22%3A%20%22abc%22%2C%20%22tms%22%3A%20false%7D%0A%20%20%20%20%20%20%20%20%20%20%20%20%29.addTo%28map_19249d7dd29c4e86a471742dd3e998df%29%3B%0A%20%20%20%20%20%20%20%20%0A%20%20%20%20%0A%20%20%20%20%20%20%20%20%20%20%20%20map_19249d7dd29c4e86a471742dd3e998df.fitBounds%28%0A%20%20%20%20%20%20%20%20%20%20%20%20%20%20%20%20%5B%5B29.953172323000047%2C%2031.365644573000054%5D%2C%20%5B30.185096377000036%2C%2031.76807858600006%5D%5D%2C%0A%20%20%20%20%20%20%20%20%20%20%20%20%20%20%20%20%7B%7D%0A%20%20%20%20%20%20%20%20%20%20%20%20%29%3B%0A%20%20%20%20%20%20%20%20%0A%20%20%20%20%0A%20%20%20%20%20%20%20%20function%20geo_json_69b8503624a044c585a7395272a5647f_styler%28feature%29%20%7B%0A%20%20%20%20%20%20%20%20%20%20%20%20switch%28feature.id%29%20%7B%0A%20%20%20%20%20%20%20%20%20%20%20%20%20%20%20%20default%3A%0A%20%20%20%20%20%20%20%20%20%20%20%20%20%20%20%20%20%20%20%20return%20%7B%22fillOpacity%22%3A%200.5%2C%20%22weight%22%3A%202%7D%3B%0A%20%20%20%20%20%20%20%20%20%20%20%20%7D%0A%20%20%20%20%20%20%20%20%7D%0A%20%20%20%20%20%20%20%20function%20geo_json_69b8503624a044c585a7395272a5647f_highlighter%28feature%29%20%7B%0A%20%20%20%20%20%20%20%20%20%20%20%20switch%28feature.id%29%20%7B%0A%20%20%20%20%20%20%20%20%20%20%20%20%20%20%20%20default%3A%0A%20%20%20%20%20%20%20%20%20%20%20%20%20%20%20%20%20%20%20%20return%20%7B%22fillOpacity%22%3A%200.75%7D%3B%0A%20%20%20%20%20%20%20%20%20%20%20%20%7D%0A%20%20%20%20%20%20%20%20%7D%0A%20%20%20%20%20%20%20%20function%20geo_json_69b8503624a044c585a7395272a5647f_pointToLayer%28feature%2C%20latlng%29%20%7B%0A%20%20%20%20%20%20%20%20%20%20%20%20var%20opts%20%3D%20%7B%22bubblingMouseEvents%22%3A%20true%2C%20%22color%22%3A%20%22%233388ff%22%2C%20%22dashArray%22%3A%20null%2C%20%22dashOffset%22%3A%20null%2C%20%22fill%22%3A%20true%2C%20%22fillColor%22%3A%20%22%233388ff%22%2C%20%22fillOpacity%22%3A%200.2%2C%20%22fillRule%22%3A%20%22evenodd%22%2C%20%22lineCap%22%3A%20%22round%22%2C%20%22lineJoin%22%3A%20%22round%22%2C%20%22opacity%22%3A%201.0%2C%20%22radius%22%3A%202%2C%20%22stroke%22%3A%20true%2C%20%22weight%22%3A%203%7D%3B%0A%20%20%20%20%20%20%20%20%20%20%20%20%0A%20%20%20%20%20%20%20%20%20%20%20%20let%20style%20%3D%20geo_json_69b8503624a044c585a7395272a5647f_styler%28feature%29%0A%20%20%20%20%20%20%20%20%20%20%20%20Object.assign%28opts%2C%20style%29%0A%20%20%20%20%20%20%20%20%20%20%20%20%0A%20%20%20%20%20%20%20%20%20%20%20%20return%20new%20L.CircleMarker%28latlng%2C%20opts%29%0A%20%20%20%20%20%20%20%20%7D%0A%0A%20%20%20%20%20%20%20%20function%20geo_json_69b8503624a044c585a7395272a5647f_onEachFeature%28feature%2C%20layer%29%20%7B%0A%20%20%20%20%20%20%20%20%20%20%20%20layer.on%28%7B%0A%20%20%20%20%20%20%20%20%20%20%20%20%20%20%20%20mouseout%3A%20function%28e%29%20%7B%0A%20%20%20%20%20%20%20%20%20%20%20%20%20%20%20%20%20%20%20%20if%28typeof%20e.target.setStyle%20%3D%3D%3D%20%22function%22%29%7B%0A%20%20%20%20%20%20%20%20%20%20%20%20%20%20%20%20%20%20%20%20%20%20%20%20geo_json_69b8503624a044c585a7395272a5647f.resetStyle%28e.target%29%3B%0A%20%20%20%20%20%20%20%20%20%20%20%20%20%20%20%20%20%20%20%20%7D%0A%20%20%20%20%20%20%20%20%20%20%20%20%20%20%20%20%7D%2C%0A%20%20%20%20%20%20%20%20%20%20%20%20%20%20%20%20mouseover%3A%20function%28e%29%20%7B%0A%20%20%20%20%20%20%20%20%20%20%20%20%20%20%20%20%20%20%20%20if%28typeof%20e.target.setStyle%20%3D%3D%3D%20%22function%22%29%7B%0A%20%20%20%20%20%20%20%20%20%20%20%20%20%20%20%20%20%20%20%20%20%20%20%20const%20highlightStyle%20%3D%20geo_json_69b8503624a044c585a7395272a5647f_highlighter%28e.target.feature%29%0A%20%20%20%20%20%20%20%20%20%20%20%20%20%20%20%20%20%20%20%20%20%20%20%20e.target.setStyle%28highlightStyle%29%3B%0A%20%20%20%20%20%20%20%20%20%20%20%20%20%20%20%20%20%20%20%20%7D%0A%20%20%20%20%20%20%20%20%20%20%20%20%20%20%20%20%7D%2C%0A%20%20%20%20%20%20%20%20%20%20%20%20%7D%29%3B%0A%20%20%20%20%20%20%20%20%7D%3B%0A%20%20%20%20%20%20%20%20var%20geo_json_69b8503624a044c585a7395272a5647f%20%3D%20L.geoJson%28null%2C%20%7B%0A%20%20%20%20%20%20%20%20%20%20%20%20%20%20%20%20onEachFeature%3A%20geo_json_69b8503624a044c585a7395272a5647f_onEachFeature%2C%0A%20%20%20%20%20%20%20%20%20%20%20%20%0A%20%20%20%20%20%20%20%20%20%20%20%20%20%20%20%20style%3A%20geo_json_69b8503624a044c585a7395272a5647f_styler%2C%0A%20%20%20%20%20%20%20%20%20%20%20%20%20%20%20%20pointToLayer%3A%20geo_json_69b8503624a044c585a7395272a5647f_pointToLayer%0A%20%20%20%20%20%20%20%20%7D%29%3B%0A%0A%20%20%20%20%20%20%20%20function%20geo_json_69b8503624a044c585a7395272a5647f_add%20%28data%29%20%7B%0A%20%20%20%20%20%20%20%20%20%20%20%20geo_json_69b8503624a044c585a7395272a5647f%0A%20%20%20%20%20%20%20%20%20%20%20%20%20%20%20%20.addData%28data%29%0A%20%20%20%20%20%20%20%20%20%20%20%20%20%20%20%20.addTo%28map_19249d7dd29c4e86a471742dd3e998df%29%3B%0A%20%20%20%20%20%20%20%20%7D%0A%20%20%20%20%20%20%20%20%20%20%20%20geo_json_69b8503624a044c585a7395272a5647f_add%28%7B%22bbox%22%3A%20%5B31.365644573000054%2C%2029.953172323000047%2C%2031.76807858600006%2C%2030.185096377000036%5D%2C%20%22features%22%3A%20%5B%7B%22bbox%22%3A%20%5B31.39396735200006%2C%2029.974121026000034%2C%2031.44780399900003%2C%2029.99460291400004%5D%2C%20%22geometry%22%3A%20%7B%22coordinates%22%3A%20%5B%5B%5B31.44780399900003%2C%2029.975393543000052%5D%2C%20%5B31.42257307400007%2C%2029.97428125700003%5D%2C%20%5B31.41894742200003%2C%2029.974121026000034%5D%2C%20%5B31.41891858100007%2C%2029.981334666000066%5D%2C%20%5B31.39396735200006%2C%2029.981721659000073%5D%2C%20%5B31.39416069200007%2C%2029.98407145300007%5D%2C%20%5B31.396390961000066%2C%2029.98791579400006%5D%2C%20%5B31.400351502000035%2C%2029.98952557900003%5D%2C%20%5B31.411706511000034%2C%2029.989923305000048%5D%2C%20%5B31.41622072800004%2C%2029.988069120000034%5D%2C%20%5B31.418313182000077%2C%2029.988094276000027%5D%2C%20%5B31.41759554300006%2C%2029.994127555000034%5D%2C%20%5B31.422550401000024%2C%2029.99198410100007%5D%2C%20%5B31.435924407000073%2C%2029.992310030000056%5D%2C%20%5B31.44566771800004%2C%2029.99259182000003%5D%2C%20%5B31.446979011000053%2C%2029.99460291400004%5D%2C%20%5B31.447141161000047%2C%2029.987203461000036%5D%2C%20%5B31.44780399900003%2C%2029.975393543000052%5D%5D%5D%2C%20%22type%22%3A%20%22Polygon%22%7D%2C%20%22id%22%3A%20%220%22%2C%20%22properties%22%3A%20%7B%22ADM0_AR%22%3A%20%22%5Cu0645%5Cu0650%5Cu0635%5Cu0631%22%2C%20%22ADM0_EN%22%3A%20%22Egypt%22%2C%20%22ADM0_PCODE%22%3A%20%22EG%22%2C%20%22ADM1_AR%22%3A%20%22%5Cu0627%5Cu0644%5Cu0642%5Cu0627%5Cu0647%5Cu0631%5Cu0629%22%2C%20%22ADM1_EN%22%3A%20%22Cairo%22%2C%20%22ADM1_PCODE%22%3A%20%22EG01%22%2C%20%22ADM2_AR%22%3A%20%22%5Cu0642%5Cu0633%5Cu0645%20%5Cu062b%5Cu0627%5Cu0644%5Cu062b%20%5Cu0627%5Cu0644%5Cu0642%5Cu0627%5Cu0647%5Cu0631%5Cu0629%20%5Cu0627%5Cu0644%5Cu062c%5Cu062f%5Cu064a%5Cu062f%5Cu0629%22%2C%20%22ADM2_EN%22%3A%20%22New%20Cairo-3%22%2C%20%22ADM2_PCODE%22%3A%20%22EG0139%22%2C%20%22ADM3ALT1AR%22%3A%20null%2C%20%22ADM3ALT1EN%22%3A%20null%2C%20%22ADM3ALT2AR%22%3A%20null%2C%20%22ADM3ALT2EN%22%3A%20null%2C%20%22ADM3_AR%22%3A%20%22%5Cu0627%5Cu0633%5Cu0643%5Cu0627%5Cu0646%20%5Cu0645%5Cu0628%5Cu0627%5Cu0631%5Cu0643%20%5Cu0644%5Cu0644%5Cu0634%5Cu0628%5Cu0627%5Cu0628%22%2C%20%22ADM3_EN%22%3A%20null%2C%20%22ADM3_PCODE%22%3A%20%22EG013902%22%2C%20%22ADM3_REF%22%3A%20null%2C%20%22Shape_Area%22%3A%200.00069056952%2C%20%22Shape_Leng%22%3A%200.14669502532%2C%20%22date%22%3A%20%222006-01-01%22%2C%20%22validOn%22%3A%20%222017-04-21%22%2C%20%22validTo%22%3A%20null%7D%2C%20%22type%22%3A%20%22Feature%22%7D%2C%20%7B%22bbox%22%3A%20%5B31.404083472000025%2C%2030.038555294000048%2C%2031.451895679000074%2C%2030.084268424000072%5D%2C%20%22geometry%22%3A%20%7B%22coordinates%22%3A%20%5B%5B%5B31.451068861000067%2C%2030.076137033000066%5D%2C%20%5B31.449275123000064%2C%2030.071360173000073%5D%2C%20%5B31.447977498000057%2C%2030.069838858000026%5D%2C%20%5B31.44717379000008%2C%2030.065866277000055%5D%2C%20%5B31.44353357800003%2C%2030.062652770000057%5D%2C%20%5B31.442547115000025%2C%2030.05738714900008%5D%2C%20%5B31.441949240000042%2C%2030.055350946000033%5D%2C%20%5B31.441978277000032%2C%2030.05498605200006%5D%2C%20%5B31.442606616000035%2C%2030.049392112000078%5D%2C%20%5B31.44264312200005%2C%2030.049112974000025%5D%2C%20%5B31.442645370000037%2C%2030.049072459000058%5D%2C%20%5B31.442647618000024%2C%2030.049031943000045%5D%2C%20%5B31.440977857000064%2C%2030.04402478800006%5D%2C%20%5B31.440282731000025%2C%2030.04191873700006%5D%2C%20%5B31.439575820000073%2C%2030.039802156000064%5D%2C%20%5B31.438991212000076%2C%2030.039784833000056%5D%2C%20%5B31.404083472000025%2C%2030.038555294000048%5D%2C%20%5B31.40566897800005%2C%2030.05054762700007%5D%2C%20%5B31.408341994000068%2C%2030.053864068000053%5D%2C%20%5B31.41919063200004%2C%2030.067321367000034%5D%2C%20%5B31.433301753000023%2C%2030.081680858000027%5D%2C%20%5B31.45127510900005%2C%2030.084268424000072%5D%2C%20%5B31.451415480000037%2C%2030.08286226000007%5D%2C%20%5B31.451582940000037%2C%2030.081254220000062%5D%2C%20%5B31.451895679000074%2C%2030.079462139000043%5D%2C%20%5B31.451643860000047%2C%2030.077253468000038%5D%2C%20%5B31.451068861000067%2C%2030.076137033000066%5D%5D%5D%2C%20%22type%22%3A%20%22Polygon%22%7D%2C%20%22id%22%3A%20%221%22%2C%20%22properties%22%3A%20%7B%22ADM0_AR%22%3A%20%22%5Cu0645%5Cu0650%5Cu0635%5Cu0631%22%2C%20%22ADM0_EN%22%3A%20%22Egypt%22%2C%20%22ADM0_PCODE%22%3A%20%22EG%22%2C%20%22ADM1_AR%22%3A%20%22%5Cu0627%5Cu0644%5Cu0642%5Cu0627%5Cu0647%5Cu0631%5Cu0629%22%2C%20%22ADM1_EN%22%3A%20%22Cairo%22%2C%20%22ADM1_PCODE%22%3A%20%22EG01%22%2C%20%22ADM2_AR%22%3A%20%22%5Cu0642%5Cu0633%5Cu0645%20%5Cu062b%5Cu0627%5Cu0646%20%5Cu0627%5Cu0644%5Cu0642%5Cu0627%5Cu0647%5Cu0631%5Cu0629%20%5Cu0627%5Cu0644%5Cu062c%5Cu062f%5Cu064a%5Cu062f%5Cu0629%22%2C%20%22ADM2_EN%22%3A%20%22New%20Cairo-2%22%2C%20%22ADM2_PCODE%22%3A%20%22EG0138%22%2C%20%22ADM3ALT1AR%22%3A%20null%2C%20%22ADM3ALT1EN%22%3A%20null%2C%20%22ADM3ALT2AR%22%3A%20null%2C%20%22ADM3ALT2EN%22%3A%20null%2C%20%22ADM3_AR%22%3A%20%22%5Cu0627%5Cu0643%5Cu0627%5Cu062f%5Cu064a%5Cu0645%5Cu064a%5Cu0647%20%5Cu0627%5Cu0644%5Cu0634%5Cu0631%5Cu0637%5Cu0647%20%5Cu0648%20%5Cu0627%5Cu0644%5Cu0645%5Cu064a%5Cu0631%5Cu0627%5Cu062c%22%2C%20%22ADM3_EN%22%3A%20null%2C%20%22ADM3_PCODE%22%3A%20%22EG013803%22%2C%20%22ADM3_REF%22%3A%20null%2C%20%22Shape_Area%22%3A%200.00130103605%2C%20%22Shape_Leng%22%3A%200.15535074688%2C%20%22date%22%3A%20%222006-01-01%22%2C%20%22validOn%22%3A%20%222017-04-21%22%2C%20%22validTo%22%3A%20null%7D%2C%20%22type%22%3A%20%22Feature%22%7D%2C%20%7B%22bbox%22%3A%20%5B31.365644573000054%2C%2029.972145125000054%2C%2031.418313182000077%2C%2030.004739966000045%5D%2C%20%22geometry%22%3A%20%7B%22coordinates%22%3A%20%5B%5B%5B31.41759554300006%2C%2029.994127555000034%5D%2C%20%5B31.418313182000077%2C%2029.988094276000027%5D%2C%20%5B31.41622072800004%2C%2029.988069120000034%5D%2C%20%5B31.411706511000034%2C%2029.989923305000048%5D%2C%20%5B31.400351502000035%2C%2029.98952557900003%5D%2C%20%5B31.396390961000066%2C%2029.98791579400006%5D%2C%20%5B31.39416069200007%2C%2029.98407145300007%5D%2C%20%5B31.39396735200006%2C%2029.981721659000073%5D%2C%20%5B31.393910611000024%2C%2029.981031999000038%5D%2C%20%5B31.393130314000075%2C%2029.979981430000066%5D%2C%20%5B31.387204317000055%2C%2029.976699077000035%5D%2C%20%5B31.38733195800006%2C%2029.974965561000033%5D%2C%20%5B31.38274775700006%2C%2029.974996083000065%5D%2C%20%5B31.37579654600006%2C%2029.973522470000034%5D%2C%20%5B31.37581794400006%2C%2029.972207259000072%5D%2C%20%5B31.374423016000037%2C%2029.972145125000054%5D%2C%20%5B31.374392192000073%2C%2029.973619599000074%5D%2C%20%5B31.37190800500008%2C%2029.97476874800003%5D%2C%20%5B31.370881849000057%2C%2029.975243438000064%5D%2C%20%5B31.37002595100006%2C%2029.975753359000066%5D%2C%20%5B31.36883391200007%2C%2029.97640808600005%5D%2C%20%5B31.367979782000077%2C%2029.97687721400007%5D%2C%20%5B31.367620886000054%2C%2029.97707433000005%5D%2C%20%5B31.367292877000068%2C%2029.977254482000035%5D%2C%20%5B31.36728405300005%2C%2029.977259324000045%5D%2C%20%5B31.365644573000054%2C%2029.986633135000034%5D%2C%20%5B31.372340111000028%2C%2029.994193881000058%5D%2C%20%5B31.392639974000076%2C%2030.002963159000046%5D%2C%20%5B31.39405316600005%2C%2030.004739966000045%5D%2C%20%5B31.397733809000044%2C%2030.001999468000065%5D%2C%20%5B31.39928404300008%2C%2030.000687351000067%5D%2C%20%5B31.40120312700003%2C%2030.000211597000032%5D%2C%20%5B31.406745259000047%2C%2030.000278802000025%5D%2C%20%5B31.408109601000035%2C%2029.998631557000067%5D%2C%20%5B31.415814580000074%2C%2029.994897924000043%5D%2C%20%5B31.41759554300006%2C%2029.994127555000034%5D%5D%5D%2C%20%22type%22%3A%20%22Polygon%22%7D%2C%20%22id%22%3A%20%222%22%2C%20%22properties%22%3A%20%7B%22ADM0_AR%22%3A%20%22%5Cu0645%5Cu0650%5Cu0635%5Cu0631%22%2C%20%22ADM0_EN%22%3A%20%22Egypt%22%2C%20%22ADM0_PCODE%22%3A%20%22EG%22%2C%20%22ADM1_AR%22%3A%20%22%5Cu0627%5Cu0644%5Cu0642%5Cu0627%5Cu0647%5Cu0631%5Cu0629%22%2C%20%22ADM1_EN%22%3A%20%22Cairo%22%2C%20%22ADM1_PCODE%22%3A%20%22EG01%22%2C%20%22ADM2_AR%22%3A%20%22%5Cu0642%5Cu0633%5Cu0645%20%5Cu062b%5Cu0627%5Cu0644%5Cu062b%20%5Cu0627%5Cu0644%5Cu0642%5Cu0627%5Cu0647%5Cu0631%5Cu0629%20%5Cu0627%5Cu0644%5Cu062c%5Cu062f%5Cu064a%5Cu062f%5Cu0629%22%2C%20%22ADM2_EN%22%3A%20%22New%20Cairo-3%22%2C%20%22ADM2_PCODE%22%3A%20%22EG0139%22%2C%20%22ADM3ALT1AR%22%3A%20null%2C%20%22ADM3ALT1EN%22%3A%20null%2C%20%22ADM3ALT2AR%22%3A%20null%2C%20%22ADM3ALT2EN%22%3A%20null%2C%20%22ADM3_AR%22%3A%20%22%5Cu0627%5Cu0644%5Cu0627%5Cu0646%5Cu0634%5Cu0637%5Cu0647%22%2C%20%22ADM3_EN%22%3A%20null%2C%20%22ADM3_PCODE%22%3A%20%22EG013903%22%2C%20%22ADM3_REF%22%3A%20null%2C%20%22Shape_Area%22%3A%200.0008367612%2C%20%22Shape_Leng%22%3A%200.14064928428%2C%20%22date%22%3A%20%222006-01-01%22%2C%20%22validOn%22%3A%20%222017-04-21%22%2C%20%22validTo%22%3A%20null%7D%2C%20%22type%22%3A%20%22Feature%22%7D%2C%20%7B%22bbox%22%3A%20%5B31.39405316600005%2C%2029.99198410100007%2C%2031.446979011000053%2C%2030.017808038000055%5D%2C%20%22geometry%22%3A%20%7B%22coordinates%22%3A%20%5B%5B%5B31.44686204100003%2C%2029.99993805200006%5D%2C%20%5B31.446979011000053%2C%2029.99460291400004%5D%2C%20%5B31.44566771800004%2C%2029.99259182000003%5D%2C%20%5B31.435924407000073%2C%2029.992310030000056%5D%2C%20%5B31.422550401000024%2C%2029.99198410100007%5D%2C%20%5B31.41759554300006%2C%2029.994127555000034%5D%2C%20%5B31.415814580000074%2C%2029.994897924000043%5D%2C%20%5B31.408109601000035%2C%2029.998631557000067%5D%2C%20%5B31.406745259000047%2C%2030.000278802000025%5D%2C%20%5B31.40120312700003%2C%2030.000211597000032%5D%2C%20%5B31.39928404300008%2C%2030.000687351000067%5D%2C%20%5B31.397733809000044%2C%2030.001999468000065%5D%2C%20%5B31.39405316600005%2C%2030.004739966000045%5D%2C%20%5B31.400722246000043%2C%2030.013123956000072%5D%2C%20%5B31.401300468000045%2C%2030.017499602000044%5D%2C%20%5B31.44624551100003%2C%2030.017808038000055%5D%2C%20%5B31.44686204100003%2C%2029.99993805200006%5D%5D%5D%2C%20%22type%22%3A%20%22Polygon%22%7D%2C%20%22id%22%3A%20%223%22%2C%20%22properties%22%3A%20%7B%22ADM0_AR%22%3A%20%22%5Cu0645%5Cu0650%5Cu0635%5Cu0631%22%2C%20%22ADM0_EN%22%3A%20%22Egypt%22%2C%20%22ADM0_PCODE%22%3A%20%22EG%22%2C%20%22ADM1_AR%22%3A%20%22%5Cu0627%5Cu0644%5Cu0642%5Cu0627%5Cu0647%5Cu0631%5Cu0629%22%2C%20%22ADM1_EN%22%3A%20%22Cairo%22%2C%20%22ADM1_PCODE%22%3A%20%22EG01%22%2C%20%22ADM2_AR%22%3A%20%22%5Cu0642%5Cu0633%5Cu0645%20%5Cu0623%5Cu0648%5Cu0644%20%5Cu0627%5Cu0644%5Cu0642%5Cu0627%5Cu0647%5Cu0631%5Cu0629%20%5Cu0627%5Cu0644%5Cu062c%5Cu062f%5Cu064a%5Cu062f%5Cu0629%22%2C%20%22ADM2_EN%22%3A%20%22New%20Cairo-1%22%2C%20%22ADM2_PCODE%22%3A%20%22EG0137%22%2C%20%22ADM3ALT1AR%22%3A%20null%2C%20%22ADM3ALT1EN%22%3A%20null%2C%20%22ADM3ALT2AR%22%3A%20null%2C%20%22ADM3ALT2EN%22%3A%20null%2C%20%22ADM3_AR%22%3A%20%22%5Cu0627%5Cu0644%5Cu062a%5Cu062c%5Cu0645%5Cu0639%20%5Cu0627%5Cu0644%5Cu062e%5Cu0627%5Cu0645%5Cu0633%22%2C%20%22ADM3_EN%22%3A%20null%2C%20%22ADM3_PCODE%22%3A%20%22EG013701%22%2C%20%22ADM3_REF%22%3A%20null%2C%20%22Shape_Area%22%3A%200.00110714249%2C%20%22Shape_Leng%22%3A%200.14099540494%2C%20%22date%22%3A%20%222006-01-01%22%2C%20%22validOn%22%3A%20%222017-04-21%22%2C%20%22validTo%22%3A%20null%7D%2C%20%22type%22%3A%20%22Feature%22%7D%2C%20%7B%22bbox%22%3A%20%5B31.451068861000067%2C%2030.030998789000023%2C%2031.538436209000054%2C%2030.09352904700006%5D%2C%20%22geometry%22%3A%20%7B%22coordinates%22%3A%20%5B%5B%5B31.52336207500008%2C%2030.045299905000036%5D%2C%20%5B31.522413345000075%2C%2030.04455866400008%5D%2C%20%5B31.51672325100003%2C%2030.040078512000036%5D%2C%20%5B31.515075576000072%2C%2030.038498107000066%5D%2C%20%5B31.513228584000046%2C%2030.037830995000036%5D%2C%20%5B31.50973657700007%2C%2030.036084763000076%5D%2C%20%5B31.507634893000045%2C%2030.035105776000023%5D%2C%20%5B31.504115236000075%2C%2030.03359859400007%5D%2C%20%5B31.498350266000045%2C%2030.03114553000006%5D%2C%20%5B31.49838552600005%2C%2030.03110078900005%5D%2C%20%5B31.498420787000043%2C%2030.03105604700005%5D%2C%20%5B31.49595176100007%2C%2030.030998789000023%5D%2C%20%5B31.495898947000057%2C%2030.041515522000054%5D%2C%20%5B31.49564513200005%2C%2030.04778609500005%5D%2C%20%5B31.496217881000064%2C%2030.048890921000066%5D%2C%20%5B31.49820604200005%2C%2030.05392953300003%5D%2C%20%5B31.49903113700003%2C%2030.05585859400003%5D%2C%20%5B31.492413042000067%2C%2030.055720949000033%5D%2C%20%5B31.48714537500007%2C%2030.055722365000065%5D%2C%20%5B31.48443331200008%2C%2030.05618652000004%5D%2C%20%5B31.480148815000064%2C%2030.057065914000077%5D%2C%20%5B31.477303781000046%2C%2030.056909147000056%5D%2C%20%5B31.474742536000065%2C%2030.05681753500005%5D%2C%20%5B31.474566287000073%2C%2030.068291172000045%5D%2C%20%5B31.474545634000037%2C%2030.069637484000054%5D%2C%20%5B31.474283220000075%2C%2030.071125256000073%5D%2C%20%5B31.47427954500006%2C%2030.07256792900006%5D%2C%20%5B31.469240814000045%2C%2030.071836062000045%5D%2C%20%5B31.466243622000036%2C%2030.071384339000076%5D%2C%20%5B31.46445207200003%2C%2030.071546178000062%5D%2C%20%5B31.461974762000068%2C%2030.071757422000076%5D%2C%20%5B31.46037976100007%2C%2030.07220916800003%5D%2C%20%5B31.459916295000028%2C%2030.072413899000026%5D%2C%20%5B31.45890455600005%2C%2030.072856770000044%5D%2C%20%5B31.456320781000045%2C%2030.07418877500004%5D%2C%20%5B31.451068861000067%2C%2030.076137033000066%5D%2C%20%5B31.451643860000047%2C%2030.077253468000038%5D%2C%20%5B31.451895679000074%2C%2030.079462139000043%5D%2C%20%5B31.451582940000037%2C%2030.081254220000062%5D%2C%20%5B31.451415480000037%2C%2030.08286226000007%5D%2C%20%5B31.45127510900005%2C%2030.084268424000072%5D%2C%20%5B31.484751648000042%2C%2030.089080988000035%5D%2C%20%5B31.499011576000044%2C%2030.08718598200005%5D%2C%20%5B31.513108999000053%2C%2030.089477583000075%5D%2C%20%5B31.535215893000043%2C%2030.09352904700006%5D%2C%20%5B31.536873444000037%2C%2030.087853791000043%5D%2C%20%5B31.53797308000003%2C%2030.082727473000034%5D%2C%20%5B31.538254705000043%2C%2030.079647481000052%5D%2C%20%5B31.538373772000057%2C%2030.076908212000035%5D%2C%20%5B31.538436209000054%2C%2030.072661046000064%5D%2C%20%5B31.53829885600004%2C%2030.07128923700003%5D%2C%20%5B31.53681841100007%2C%2030.064832439000043%5D%2C%20%5B31.53567943300004%2C%2030.061942153000075%5D%2C%20%5B31.533452167000064%2C%2030.05808053100003%5D%2C%20%5B31.529912711000065%2C%2030.05242283700005%5D%2C%20%5B31.525177324000026%2C%2030.047779337000065%5D%2C%20%5B31.523242353000057%2C%2030.04549667400005%5D%2C%20%5B31.52336207500008%2C%2030.045299905000036%5D%5D%5D%2C%20%22type%22%3A%20%22Polygon%22%7D%2C%20%22id%22%3A%20%224%22%2C%20%22properties%22%3A%20%7B%22ADM0_AR%22%3A%20%22%5Cu0645%5Cu0650%5Cu0635%5Cu0631%22%2C%20%22ADM0_EN%22%3A%20%22Egypt%22%2C%20%22ADM0_PCODE%22%3A%20%22EG%22%2C%20%22ADM1_AR%22%3A%20%22%5Cu0627%5Cu0644%5Cu0642%5Cu0627%5Cu0647%5Cu0631%5Cu0629%22%2C%20%22ADM1_EN%22%3A%20%22Cairo%22%2C%20%22ADM1_PCODE%22%3A%20%22EG01%22%2C%20%22ADM2_AR%22%3A%20%22%5Cu0642%5Cu0633%5Cu0645%20%5Cu062b%5Cu0627%5Cu0646%20%5Cu0627%5Cu0644%5Cu0642%5Cu0627%5Cu0647%5Cu0631%5Cu0629%20%5Cu0627%5Cu0644%5Cu062c%5Cu062f%5Cu064a%5Cu062f%5Cu0629%22%2C%20%22ADM2_EN%22%3A%20%22New%20Cairo-2%22%2C%20%22ADM2_PCODE%22%3A%20%22EG0138%22%2C%20%22ADM3ALT1AR%22%3A%20null%2C%20%22ADM3ALT1EN%22%3A%20null%2C%20%22ADM3ALT2AR%22%3A%20null%2C%20%22ADM3ALT2EN%22%3A%20null%2C%20%22ADM3_AR%22%3A%20%22%5Cu0627%5Cu0644%5Cu0631%5Cu062d%5Cu0627%5Cu0628%20%5Cu0648%20%5Cu0627%5Cu0644%5Cu0645%5Cu0633%5Cu062a%5Cu062b%5Cu0645%5Cu0631%5Cu0648%5Cu0646%22%2C%20%22ADM3_EN%22%3A%20null%2C%20%22ADM3_PCODE%22%3A%20%22EG013801%22%2C%20%22ADM3_REF%22%3A%20null%2C%20%22Shape_Area%22%3A%200.00295743827%2C%20%22Shape_Leng%22%3A%200.26815505869%2C%20%22date%22%3A%20%222006-01-01%22%2C%20%22validOn%22%3A%20%222017-04-21%22%2C%20%22validTo%22%3A%20null%7D%2C%20%22type%22%3A%20%22Feature%22%7D%2C%20%7B%22bbox%22%3A%20%5B31.446835470000053%2C%2029.953172323000047%2C%2031.50446465300007%2C%2030.004071974000055%5D%2C%20%22geometry%22%3A%20%7B%22coordinates%22%3A%20%5B%5B%5B31.498362276000023%2C%2029.953172323000047%5D%2C%20%5B31.483098050000024%2C%2029.96327612700003%5D%2C%20%5B31.480617168000038%2C%2029.96493399800005%5D%2C%20%5B31.480570363000027%2C%2029.964932538000028%5D%2C%20%5B31.480539167000074%2C%2029.964931558000046%5D%2C%20%5B31.46612288400007%2C%2029.97478806600003%5D%2C%20%5B31.46073876300005%2C%2029.97596191200006%5D%2C%20%5B31.455437588000052%2C%2029.97572911000003%5D%2C%20%5B31.44780399900003%2C%2029.975393543000052%5D%2C%20%5B31.447141161000047%2C%2029.987203461000036%5D%2C%20%5B31.446979011000053%2C%2029.99460291400004%5D%2C%20%5B31.44686204100003%2C%2029.99993805200006%5D%2C%20%5B31.446835470000053%2C%2030.001149137000027%5D%2C%20%5B31.45772463700007%2C%2030.001401051000073%5D%2C%20%5B31.481492554000056%2C%2030.001542182000037%5D%2C%20%5B31.489533058000063%2C%2030.004068758000074%5D%2C%20%5B31.50404446500005%2C%2030.004071974000055%5D%2C%20%5B31.50446465300007%2C%2029.961508038000034%5D%2C%20%5B31.498362276000023%2C%2029.953172323000047%5D%5D%5D%2C%20%22type%22%3A%20%22Polygon%22%7D%2C%20%22id%22%3A%20%225%22%2C%20%22properties%22%3A%20%7B%22ADM0_AR%22%3A%20%22%5Cu0645%5Cu0650%5Cu0635%5Cu0631%22%2C%20%22ADM0_EN%22%3A%20%22Egypt%22%2C%20%22ADM0_PCODE%22%3A%20%22EG%22%2C%20%22ADM1_AR%22%3A%20%22%5Cu0627%5Cu0644%5Cu0642%5Cu0627%5Cu0647%5Cu0631%5Cu0629%22%2C%20%22ADM1_EN%22%3A%20%22Cairo%22%2C%20%22ADM1_PCODE%22%3A%20%22EG01%22%2C%20%22ADM2_AR%22%3A%20%22%5Cu0642%5Cu0633%5Cu0645%20%5Cu062b%5Cu0627%5Cu0644%5Cu062b%20%5Cu0627%5Cu0644%5Cu0642%5Cu0627%5Cu0647%5Cu0631%5Cu0629%20%5Cu0627%5Cu0644%5Cu062c%5Cu062f%5Cu064a%5Cu062f%5Cu0629%22%2C%20%22ADM2_EN%22%3A%20%22New%20Cairo-3%22%2C%20%22ADM2_PCODE%22%3A%20%22EG0139%22%2C%20%22ADM3ALT1AR%22%3A%20null%2C%20%22ADM3ALT1EN%22%3A%20null%2C%20%22ADM3ALT2AR%22%3A%20null%2C%20%22ADM3ALT2EN%22%3A%20null%2C%20%22ADM3_AR%22%3A%20%22%5Cu0627%5Cu0644%5Cu0645%5Cu0646%5Cu0637%5Cu0642%5Cu0647%20%5Cu0627%5Cu0644%5Cu0635%5Cu0646%5Cu0627%5Cu0639%5Cu064a%5Cu0647%22%2C%20%22ADM3_EN%22%3A%20null%2C%20%22ADM3_PCODE%22%3A%20%22EG013904%22%2C%20%22ADM3_REF%22%3A%20null%2C%20%22Shape_Area%22%3A%200.00200891364%2C%20%22Shape_Leng%22%3A%200.19356286217%2C%20%22date%22%3A%20%222006-01-01%22%2C%20%22validOn%22%3A%20%222017-04-21%22%2C%20%22validTo%22%3A%20null%7D%2C%20%22type%22%3A%20%22Feature%22%7D%2C%20%7B%22bbox%22%3A%20%5B31.37579654600006%2C%2029.972207259000072%2C%2031.41894742200003%2C%2029.981721659000073%5D%2C%20%22geometry%22%3A%20%7B%22coordinates%22%3A%20%5B%5B%5B31.41894742200003%2C%2029.974121026000034%5D%2C%20%5B31.395576301000062%2C%2029.973085748000074%5D%2C%20%5B31.378861509000046%2C%2029.972342791000074%5D%2C%20%5B31.37581794400006%2C%2029.972207259000072%5D%2C%20%5B31.37579654600006%2C%2029.973522470000034%5D%2C%20%5B31.38274775700006%2C%2029.974996083000065%5D%2C%20%5B31.38733195800006%2C%2029.974965561000033%5D%2C%20%5B31.387204317000055%2C%2029.976699077000035%5D%2C%20%5B31.393130314000075%2C%2029.979981430000066%5D%2C%20%5B31.393910611000024%2C%2029.981031999000038%5D%2C%20%5B31.39396735200006%2C%2029.981721659000073%5D%2C%20%5B31.41891858100007%2C%2029.981334666000066%5D%2C%20%5B31.41894742200003%2C%2029.974121026000034%5D%5D%5D%2C%20%22type%22%3A%20%22Polygon%22%7D%2C%20%22id%22%3A%20%226%22%2C%20%22properties%22%3A%20%7B%22ADM0_AR%22%3A%20%22%5Cu0645%5Cu0650%5Cu0635%5Cu0631%22%2C%20%22ADM0_EN%22%3A%20%22Egypt%22%2C%20%22ADM0_PCODE%22%3A%20%22EG%22%2C%20%22ADM1_AR%22%3A%20%22%5Cu0627%5Cu0644%5Cu0642%5Cu0627%5Cu0647%5Cu0631%5Cu0629%22%2C%20%22ADM1_EN%22%3A%20%22Cairo%22%2C%20%22ADM1_PCODE%22%3A%20%22EG01%22%2C%20%22ADM2_AR%22%3A%20%22%5Cu0642%5Cu0633%5Cu0645%20%5Cu062b%5Cu0627%5Cu0644%5Cu062b%20%5Cu0627%5Cu0644%5Cu0642%5Cu0627%5Cu0647%5Cu0631%5Cu0629%20%5Cu0627%5Cu0644%5Cu062c%5Cu062f%5Cu064a%5Cu062f%5Cu0629%22%2C%20%22ADM2_EN%22%3A%20%22New%20Cairo-3%22%2C%20%22ADM2_PCODE%22%3A%20%22EG0139%22%2C%20%22ADM3ALT1AR%22%3A%20null%2C%20%22ADM3ALT1EN%22%3A%20null%2C%20%22ADM3ALT2AR%22%3A%20null%2C%20%22ADM3ALT2EN%22%3A%20null%2C%20%22ADM3_AR%22%3A%20%22%5Cu0627%5Cu0644%5Cu0642%5Cu0637%5Cu0627%5Cu0645%5Cu064a%5Cu0647%22%2C%20%22ADM3_EN%22%3A%20null%2C%20%22ADM3_PCODE%22%3A%20%22EG013901%22%2C%20%22ADM3_REF%22%3A%20null%2C%20%22Shape_Area%22%3A%200.00026125955%2C%20%22Shape_Leng%22%3A%200.09885838181%2C%20%22date%22%3A%20%222006-01-01%22%2C%20%22validOn%22%3A%20%222017-04-21%22%2C%20%22validTo%22%3A%20null%7D%2C%20%22type%22%3A%20%22Feature%22%7D%2C%20%7B%22bbox%22%3A%20%5B31.44624551100003%2C%2029.99993805200006%2C%2031.50404446500005%2C%2030.027782381000065%5D%2C%20%22geometry%22%3A%20%7B%22coordinates%22%3A%20%5B%5B%5B31.50404446500005%2C%2030.004071974000055%5D%2C%20%5B31.489533058000063%2C%2030.004068758000074%5D%2C%20%5B31.481492554000056%2C%2030.001542182000037%5D%2C%20%5B31.45772463700007%2C%2030.001401051000073%5D%2C%20%5B31.446835470000053%2C%2030.001149137000027%5D%2C%20%5B31.44686204100003%2C%2029.99993805200006%5D%2C%20%5B31.44624551100003%2C%2030.017808038000055%5D%2C%20%5B31.448414983000077%2C%2030.019561563000025%5D%2C%20%5B31.450780689000055%2C%2030.022208963000026%5D%2C%20%5B31.45526387600006%2C%2030.026371357000073%5D%2C%20%5B31.457000958000037%2C%2030.027152770000043%5D%2C%20%5B31.463644445000057%2C%2030.027382756000065%5D%2C%20%5B31.49623480400004%2C%2030.027782381000065%5D%2C%20%5B31.496224933000065%2C%2030.024335570000062%5D%2C%20%5B31.497004840000045%2C%2030.021867147000023%5D%2C%20%5B31.502534179000065%2C%2030.016329281000026%5D%2C%20%5B31.503885231000027%2C%2030.012897940000073%5D%2C%20%5B31.503968902000054%2C%2030.00910735100007%5D%2C%20%5B31.50404446500005%2C%2030.004071974000055%5D%5D%5D%2C%20%22type%22%3A%20%22Polygon%22%7D%2C%20%22id%22%3A%20%227%22%2C%20%22properties%22%3A%20%7B%22ADM0_AR%22%3A%20%22%5Cu0645%5Cu0650%5Cu0635%5Cu0631%22%2C%20%22ADM0_EN%22%3A%20%22Egypt%22%2C%20%22ADM0_PCODE%22%3A%20%22EG%22%2C%20%22ADM1_AR%22%3A%20%22%5Cu0627%5Cu0644%5Cu0642%5Cu0627%5Cu0647%5Cu0631%5Cu0629%22%2C%20%22ADM1_EN%22%3A%20%22Cairo%22%2C%20%22ADM1_PCODE%22%3A%20%22EG01%22%2C%20%22ADM2_AR%22%3A%20%22%5Cu0642%5Cu0633%5Cu0645%20%5Cu0623%5Cu0648%5Cu0644%20%5Cu0627%5Cu0644%5Cu0642%5Cu0627%5Cu0647%5Cu0631%5Cu0629%20%5Cu0627%5Cu0644%5Cu062c%5Cu062f%5Cu064a%5Cu062f%5Cu0629%22%2C%20%22ADM2_EN%22%3A%20%22New%20Cairo-1%22%2C%20%22ADM2_PCODE%22%3A%20%22EG0137%22%2C%20%22ADM3ALT1AR%22%3A%20null%2C%20%22ADM3ALT1EN%22%3A%20null%2C%20%22ADM3ALT2AR%22%3A%20null%2C%20%22ADM3ALT2EN%22%3A%20null%2C%20%22ADM3_AR%22%3A%20%22%5Cu0627%5Cu0644%5Cu0646%5Cu0631%5Cu062c%5Cu0633%20%5Cu0627%5Cu0644%5Cu0645%5Cu0633%5Cu062a%5Cu062b%5Cu0645%5Cu0631%5Cu064a%5Cu0646%20%5Cu0627%5Cu0644%5Cu062c%5Cu0646%5Cu0648%5Cu0628%5Cu064a%5Cu0647%22%2C%20%22ADM3_EN%22%3A%20null%2C%20%22ADM3_PCODE%22%3A%20%22EG013702%22%2C%20%22ADM3_REF%22%3A%20null%2C%20%22Shape_Area%22%3A%200.00133398892%2C%20%22Shape_Leng%22%3A%200.15667086315%2C%20%22date%22%3A%20%222006-01-01%22%2C%20%22validOn%22%3A%20%222017-04-21%22%2C%20%22validTo%22%3A%20null%7D%2C%20%22type%22%3A%20%22Feature%22%7D%2C%20%7B%22bbox%22%3A%20%5B31.401300468000045%2C%2030.017499602000044%2C%2031.49917262400004%2C%2030.076137033000066%5D%2C%20%22geometry%22%3A%20%7B%22coordinates%22%3A%20%5B%5B%5B31.498420787000043%2C%2030.03105604700005%5D%2C%20%5B31.49872886600008%2C%2030.03066516000007%5D%2C%20%5B31.49917262400004%2C%2030.02997011700006%5D%2C%20%5B31.498956711000062%2C%2030.027867335000053%5D%2C%20%5B31.49623480400004%2C%2030.027782381000065%5D%2C%20%5B31.463644445000057%2C%2030.027382756000065%5D%2C%20%5B31.457000958000037%2C%2030.027152770000043%5D%2C%20%5B31.45526387600006%2C%2030.026371357000073%5D%2C%20%5B31.450780689000055%2C%2030.022208963000026%5D%2C%20%5B31.448414983000077%2C%2030.019561563000025%5D%2C%20%5B31.44624551100003%2C%2030.017808038000055%5D%2C%20%5B31.401300468000045%2C%2030.017499602000044%5D%2C%20%5B31.404083472000025%2C%2030.038555294000048%5D%2C%20%5B31.438991212000076%2C%2030.039784833000056%5D%2C%20%5B31.439575820000073%2C%2030.039802156000064%5D%2C%20%5B31.440282731000025%2C%2030.04191873700006%5D%2C%20%5B31.440977857000064%2C%2030.04402478800006%5D%2C%20%5B31.442647618000024%2C%2030.049031943000045%5D%2C%20%5B31.442645370000037%2C%2030.049072459000058%5D%2C%20%5B31.44264312200005%2C%2030.049112974000025%5D%2C%20%5B31.442606616000035%2C%2030.049392112000078%5D%2C%20%5B31.441978277000032%2C%2030.05498605200006%5D%2C%20%5B31.441949240000042%2C%2030.055350946000033%5D%2C%20%5B31.442547115000025%2C%2030.05738714900008%5D%2C%20%5B31.44353357800003%2C%2030.062652770000057%5D%2C%20%5B31.44717379000008%2C%2030.065866277000055%5D%2C%20%5B31.447977498000057%2C%2030.069838858000026%5D%2C%20%5B31.449275123000064%2C%2030.071360173000073%5D%2C%20%5B31.451068861000067%2C%2030.076137033000066%5D%2C%20%5B31.456320781000045%2C%2030.07418877500004%5D%2C%20%5B31.45890455600005%2C%2030.072856770000044%5D%2C%20%5B31.459916295000028%2C%2030.072413899000026%5D%2C%20%5B31.46037976100007%2C%2030.07220916800003%5D%2C%20%5B31.461974762000068%2C%2030.071757422000076%5D%2C%20%5B31.46445207200003%2C%2030.071546178000062%5D%2C%20%5B31.466243622000036%2C%2030.071384339000076%5D%2C%20%5B31.469240814000045%2C%2030.071836062000045%5D%2C%20%5B31.47427954500006%2C%2030.07256792900006%5D%2C%20%5B31.474283220000075%2C%2030.071125256000073%5D%2C%20%5B31.474545634000037%2C%2030.069637484000054%5D%2C%20%5B31.474566287000073%2C%2030.068291172000045%5D%2C%20%5B31.474742536000065%2C%2030.05681753500005%5D%2C%20%5B31.477303781000046%2C%2030.056909147000056%5D%2C%20%5B31.480148815000064%2C%2030.057065914000077%5D%2C%20%5B31.48443331200008%2C%2030.05618652000004%5D%2C%20%5B31.48714537500007%2C%2030.055722365000065%5D%2C%20%5B31.492413042000067%2C%2030.055720949000033%5D%2C%20%5B31.49903113700003%2C%2030.05585859400003%5D%2C%20%5B31.49820604200005%2C%2030.05392953300003%5D%2C%20%5B31.496217881000064%2C%2030.048890921000066%5D%2C%20%5B31.49564513200005%2C%2030.04778609500005%5D%2C%20%5B31.495898947000057%2C%2030.041515522000054%5D%2C%20%5B31.49595176100007%2C%2030.030998789000023%5D%2C%20%5B31.498420787000043%2C%2030.03105604700005%5D%5D%5D%2C%20%22type%22%3A%20%22Polygon%22%7D%2C%20%22id%22%3A%20%228%22%2C%20%22properties%22%3A%20%7B%22ADM0_AR%22%3A%20%22%5Cu0645%5Cu0650%5Cu0635%5Cu0631%22%2C%20%22ADM0_EN%22%3A%20%22Egypt%22%2C%20%22ADM0_PCODE%22%3A%20%22EG%22%2C%20%22ADM1_AR%22%3A%20%22%5Cu0627%5Cu0644%5Cu0642%5Cu0627%5Cu0647%5Cu0631%5Cu0629%22%2C%20%22ADM1_EN%22%3A%20%22Cairo%22%2C%20%22ADM1_PCODE%22%3A%20%22EG01%22%2C%20%22ADM2_AR%22%3A%20%22%5Cu0642%5Cu0633%5Cu0645%20%5Cu0623%5Cu0648%5Cu0644%20%5Cu0627%5Cu0644%5Cu0642%5Cu0627%5Cu0647%5Cu0631%5Cu0629%20%5Cu0627%5Cu0644%5Cu062c%5Cu062f%5Cu064a%5Cu062f%5Cu0629%22%2C%20%22ADM2_EN%22%3A%20%22New%20Cairo-1%22%2C%20%22ADM2_PCODE%22%3A%20%22EG0137%22%2C%20%22ADM3ALT1AR%22%3A%20null%2C%20%22ADM3ALT1EN%22%3A%20null%2C%20%22ADM3ALT2AR%22%3A%20null%2C%20%22ADM3ALT2EN%22%3A%20null%2C%20%22ADM3_AR%22%3A%20%22%5Cu0627%5Cu0644%5Cu064a%5Cu0627%5Cu0633%5Cu0645%5Cu064a%5Cu0646%20%5Cu0648%20%5Cu0627%5Cu0644%5Cu0628%5Cu0646%5Cu0641%5Cu0633%5Cu062c%20%5Cu0648%20%5Cu0627%5Cu0644%5Cu0645%5Cu062b%5Cu062a%5Cu0633%22%2C%20%22ADM3_EN%22%3A%20null%2C%20%22ADM3_PCODE%22%3A%20%22EG013703%22%2C%20%22ADM3_REF%22%3A%20null%2C%20%22Shape_Area%22%3A%200.00299725132%2C%20%22Shape_Leng%22%3A%200.29344298359%2C%20%22date%22%3A%20%222006-01-01%22%2C%20%22validOn%22%3A%20%222017-04-21%22%2C%20%22validTo%22%3A%20null%7D%2C%20%22type%22%3A%20%22Feature%22%7D%2C%20%7B%22bbox%22%3A%20%5B31.698783217000027%2C%2030.126298001000066%2C%2031.73092599100005%2C%2030.154046830000027%5D%2C%20%22geometry%22%3A%20%7B%22coordinates%22%3A%20%5B%5B%5B31.724888262000036%2C%2030.143069472000036%5D%2C%20%5B31.72530095700006%2C%2030.139277697000068%5D%2C%20%5B31.726093737000042%2C%2030.134224343000028%5D%2C%20%5B31.728685383000027%2C%2030.130769977000057%5D%2C%20%5B31.730908975000034%2C%2030.127628336000043%5D%2C%20%5B31.73092599100005%2C%2030.126298001000066%5D%2C%20%5B31.71024673900007%2C%2030.13233494600007%5D%2C%20%5B31.70545333800004%2C%2030.13049313500005%5D%2C%20%5B31.70435083600006%2C%2030.132105972000033%5D%2C%20%5B31.703156685000067%2C%2030.133205132000057%5D%2C%20%5B31.70217030300006%2C%2030.13345175300003%5D%2C%20%5B31.700701353000056%2C%2030.133009936000064%5D%2C%20%5B31.701080026000056%2C%2030.134124632000066%5D%2C%20%5B31.698783217000027%2C%2030.13553806300007%5D%2C%20%5B31.69982090900004%2C%2030.13966043000005%5D%2C%20%5B31.699729665000064%2C%2030.14661841800006%5D%2C%20%5B31.699343506000048%2C%2030.148645867000027%5D%2C%20%5B31.702223185000037%2C%2030.150755178000054%5D%2C%20%5B31.70909655300005%2C%2030.153986117000045%5D%2C%20%5B31.715283474000046%2C%2030.154046830000027%5D%2C%20%5B31.714261418000035%2C%2030.148659475000045%5D%2C%20%5B31.715034337000077%2C%2030.145187590000035%5D%2C%20%5B31.717966042000057%2C%2030.143634682000027%5D%2C%20%5B31.723424528000066%2C%2030.14368788300004%5D%2C%20%5B31.724888262000036%2C%2030.143069472000036%5D%5D%5D%2C%20%22type%22%3A%20%22Polygon%22%7D%2C%20%22id%22%3A%20%229%22%2C%20%22properties%22%3A%20%7B%22ADM0_AR%22%3A%20%22%5Cu0645%5Cu0650%5Cu0635%5Cu0631%22%2C%20%22ADM0_EN%22%3A%20%22Egypt%22%2C%20%22ADM0_PCODE%22%3A%20%22EG%22%2C%20%22ADM1_AR%22%3A%20%22%5Cu0627%5Cu0644%5Cu0642%5Cu0627%5Cu0647%5Cu0631%5Cu0629%22%2C%20%22ADM1_EN%22%3A%20%22Cairo%22%2C%20%22ADM1_PCODE%22%3A%20%22EG01%22%2C%20%22ADM2_AR%22%3A%20%22%5Cu0642%5Cu0633%5Cu0645%20%5Cu0628%5Cu062f%5Cu0631%22%2C%20%22ADM2_EN%22%3A%20%22Badr%22%2C%20%22ADM2_PCODE%22%3A%20%22EG0141%22%2C%20%22ADM3ALT1AR%22%3A%20null%2C%20%22ADM3ALT1EN%22%3A%20null%2C%20%22ADM3ALT2AR%22%3A%20null%2C%20%22ADM3ALT2EN%22%3A%20null%2C%20%22ADM3_AR%22%3A%20%22%5Cu0634%5Cu064a%5Cu0627%5Cu062e%5Cu0629%20%5Cu0627%5Cu0644%5Cu062d%5Cu0649%20%5Cu0627%5Cu0644%5Cu0627%5Cu0648%5Cu0644%20%5Cu0648%5Cu0627%5Cu0644%5Cu062d%5Cu062f%5Cu064a%5Cu0642%5Cu0629%20%5Cu0627%22%2C%20%22ADM3_EN%22%3A%20null%2C%20%22ADM3_PCODE%22%3A%20%22EG014102%22%2C%20%22ADM3_REF%22%3A%20null%2C%20%22Shape_Area%22%3A%200.00048619785%2C%20%22Shape_Leng%22%3A%200.10513694869%2C%20%22date%22%3A%20%222006-01-01%22%2C%20%22validOn%22%3A%20%222017-04-21%22%2C%20%22validTo%22%3A%20null%7D%2C%20%22type%22%3A%20%22Feature%22%7D%2C%20%7B%22bbox%22%3A%20%5B31.666439534000062%2C%2030.114111217000072%2C%2031.69982090900004%2C%2030.15395042800003%5D%2C%20%22geometry%22%3A%20%7B%22coordinates%22%3A%20%5B%5B%5B31.699343506000048%2C%2030.148645867000027%5D%2C%20%5B31.699729665000064%2C%2030.14661841800006%5D%2C%20%5B31.69982090900004%2C%2030.13966043000005%5D%2C%20%5B31.698783217000027%2C%2030.13553806300007%5D%2C%20%5B31.694809810000038%2C%2030.133284408000065%5D%2C%20%5B31.692664191000063%2C%2030.130416230000037%5D%2C%20%5B31.692705870000054%2C%2030.127253515000064%5D%2C%20%5B31.687695831000042%2C%2030.120877241000073%5D%2C%20%5B31.68778516100008%2C%2030.114120847000038%5D%2C%20%5B31.685350309000057%2C%2030.11435148100003%5D%2C%20%5B31.67514165700004%2C%2030.114111217000072%5D%2C%20%5B31.67186148600007%2C%2030.13495213400006%5D%2C%20%5B31.666439534000062%2C%2030.140355433000025%5D%2C%20%5B31.685858779000057%2C%2030.15395042800003%5D%2C%20%5B31.685858895000024%2C%2030.15395010000003%5D%2C%20%5B31.686934287000042%2C%2030.150919415000033%5D%2C%20%5B31.69274451900003%2C%2030.151926375000073%5D%2C%20%5B31.698947899000075%2C%2030.150722749000067%5D%2C%20%5B31.699343506000048%2C%2030.148645867000027%5D%5D%5D%2C%20%22type%22%3A%20%22Polygon%22%7D%2C%20%22id%22%3A%20%2210%22%2C%20%22properties%22%3A%20%7B%22ADM0_AR%22%3A%20%22%5Cu0645%5Cu0650%5Cu0635%5Cu0631%22%2C%20%22ADM0_EN%22%3A%20%22Egypt%22%2C%20%22ADM0_PCODE%22%3A%20%22EG%22%2C%20%22ADM1_AR%22%3A%20%22%5Cu0627%5Cu0644%5Cu0642%5Cu0627%5Cu0647%5Cu0631%5Cu0629%22%2C%20%22ADM1_EN%22%3A%20%22Cairo%22%2C%20%22ADM1_PCODE%22%3A%20%22EG01%22%2C%20%22ADM2_AR%22%3A%20%22%5Cu0642%5Cu0633%5Cu0645%20%5Cu0628%5Cu062f%5Cu0631%22%2C%20%22ADM2_EN%22%3A%20%22Badr%22%2C%20%22ADM2_PCODE%22%3A%20%22EG0141%22%2C%20%22ADM3ALT1AR%22%3A%20null%2C%20%22ADM3ALT1EN%22%3A%20null%2C%20%22ADM3ALT2AR%22%3A%20null%2C%20%22ADM3ALT2EN%22%3A%20null%2C%20%22ADM3_AR%22%3A%20%22%5Cu0634%5Cu064a%5Cu0627%5Cu062e%5Cu0629%20%5Cu0627%5Cu0644%5Cu062d%5Cu0649%20%5Cu0627%5Cu0644%5Cu062b%5Cu0627%5Cu0644%5Cu062b%20%5Cu0648%5Cu0627%5Cu0644%5Cu0645%5Cu0646%5Cu0637%5Cu0642%5Cu0629%22%2C%20%22ADM3_EN%22%3A%20null%2C%20%22ADM3_PCODE%22%3A%20%22EG014104%22%2C%20%22ADM3_REF%22%3A%20null%2C%20%22Shape_Area%22%3A%200.0008047591%2C%20%22Shape_Leng%22%3A%200.12211317698%2C%20%22date%22%3A%20%222006-01-01%22%2C%20%22validOn%22%3A%20%222017-04-21%22%2C%20%22validTo%22%3A%20null%7D%2C%20%22type%22%3A%20%22Feature%22%7D%2C%20%7B%22bbox%22%3A%20%5B31.675763072000052%2C%2030.148645867000027%2C%2031.71610878100006%2C%2030.17746681400007%5D%2C%20%22geometry%22%3A%20%7B%22coordinates%22%3A%20%5B%5B%5B31.71610878100006%2C%2030.169814246000044%5D%2C%20%5B31.71610859900005%2C%2030.16981147300004%5D%2C%20%5B31.715553131000036%2C%2030.161324707000063%5D%2C%20%5B31.715283474000046%2C%2030.154046830000027%5D%2C%20%5B31.70909655300005%2C%2030.153986117000045%5D%2C%20%5B31.702223185000037%2C%2030.150755178000054%5D%2C%20%5B31.699343506000048%2C%2030.148645867000027%5D%2C%20%5B31.698947899000075%2C%2030.150722749000067%5D%2C%20%5B31.69274451900003%2C%2030.151926375000073%5D%2C%20%5B31.686934287000042%2C%2030.150919415000033%5D%2C%20%5B31.685858895000024%2C%2030.15395010000003%5D%2C%20%5B31.685858779000057%2C%2030.15395042800003%5D%2C%20%5B31.688327186000038%2C%2030.15567804500006%5D%2C%20%5B31.675763072000052%2C%2030.169785868000076%5D%2C%20%5B31.676302147000058%2C%2030.177466551000066%5D%2C%20%5B31.67630216500004%2C%2030.17746681400007%5D%2C%20%5B31.68072432100007%2C%2030.176986879000026%5D%2C%20%5B31.71610878100006%2C%2030.169814246000044%5D%5D%5D%2C%20%22type%22%3A%20%22Polygon%22%7D%2C%20%22id%22%3A%20%2211%22%2C%20%22properties%22%3A%20%7B%22ADM0_AR%22%3A%20%22%5Cu0645%5Cu0650%5Cu0635%5Cu0631%22%2C%20%22ADM0_EN%22%3A%20%22Egypt%22%2C%20%22ADM0_PCODE%22%3A%20%22EG%22%2C%20%22ADM1_AR%22%3A%20%22%5Cu0627%5Cu0644%5Cu0642%5Cu0627%5Cu0647%5Cu0631%5Cu0629%22%2C%20%22ADM1_EN%22%3A%20%22Cairo%22%2C%20%22ADM1_PCODE%22%3A%20%22EG01%22%2C%20%22ADM2_AR%22%3A%20%22%5Cu0642%5Cu0633%5Cu0645%20%5Cu0628%5Cu062f%5Cu0631%22%2C%20%22ADM2_EN%22%3A%20%22Badr%22%2C%20%22ADM2_PCODE%22%3A%20%22EG0141%22%2C%20%22ADM3ALT1AR%22%3A%20null%2C%20%22ADM3ALT1EN%22%3A%20null%2C%20%22ADM3ALT2AR%22%3A%20null%2C%20%22ADM3ALT2EN%22%3A%20null%2C%20%22ADM3_AR%22%3A%20%22%5Cu0634%5Cu064a%5Cu0627%5Cu062e%5Cu0629%20%5Cu0627%5Cu0644%5Cu062d%5Cu0649%20%5Cu0627%5Cu0644%5Cu062b%5Cu0627%5Cu0646%5Cu0649%20%5Cu0648%5Cu0645%5Cu0646%5Cu0637%5Cu0642%5Cu0629%20%5Cu0627%5Cu0644%22%2C%20%22ADM3_EN%22%3A%20null%2C%20%22ADM3_PCODE%22%3A%20%22EG014103%22%2C%20%22ADM3_REF%22%3A%20null%2C%20%22Shape_Area%22%3A%200.00074308893%2C%20%22Shape_Leng%22%3A%200.12084500069%2C%20%22date%22%3A%20%222006-01-01%22%2C%20%22validOn%22%3A%20%222017-04-21%22%2C%20%22validTo%22%3A%20null%7D%2C%20%22type%22%3A%20%22Feature%22%7D%2C%20%7B%22bbox%22%3A%20%5B31.65610347100005%2C%2030.140355433000025%2C%2031.688327186000038%2C%2030.18071560900006%5D%2C%20%22geometry%22%3A%20%7B%22coordinates%22%3A%20%5B%5B%5B31.67630216500004%2C%2030.17746681400007%5D%2C%20%5B31.676302147000058%2C%2030.177466551000066%5D%2C%20%5B31.675763072000052%2C%2030.169785868000076%5D%2C%20%5B31.688327186000038%2C%2030.15567804500006%5D%2C%20%5B31.685858779000057%2C%2030.15395042800003%5D%2C%20%5B31.666439534000062%2C%2030.140355433000025%5D%2C%20%5B31.66337760400006%2C%2030.143406454000058%5D%2C%20%5B31.661125937000065%2C%2030.14844448200006%5D%2C%20%5B31.65748224400005%2C%2030.17560995900004%5D%2C%20%5B31.656103488000042%2C%2030.180715546000044%5D%2C%20%5B31.65610347100005%2C%2030.18071560900006%5D%2C%20%5B31.661202437000043%2C%2030.17910441400005%5D%2C%20%5B31.67630216500004%2C%2030.17746681400007%5D%5D%5D%2C%20%22type%22%3A%20%22Polygon%22%7D%2C%20%22id%22%3A%20%2212%22%2C%20%22properties%22%3A%20%7B%22ADM0_AR%22%3A%20%22%5Cu0645%5Cu0650%5Cu0635%5Cu0631%22%2C%20%22ADM0_EN%22%3A%20%22Egypt%22%2C%20%22ADM0_PCODE%22%3A%20%22EG%22%2C%20%22ADM1_AR%22%3A%20%22%5Cu0627%5Cu0644%5Cu0642%5Cu0627%5Cu0647%5Cu0631%5Cu0629%22%2C%20%22ADM1_EN%22%3A%20%22Cairo%22%2C%20%22ADM1_PCODE%22%3A%20%22EG01%22%2C%20%22ADM2_AR%22%3A%20%22%5Cu0642%5Cu0633%5Cu0645%20%5Cu0628%5Cu062f%5Cu0631%22%2C%20%22ADM2_EN%22%3A%20%22Badr%22%2C%20%22ADM2_PCODE%22%3A%20%22EG0141%22%2C%20%22ADM3ALT1AR%22%3A%20null%2C%20%22ADM3ALT1EN%22%3A%20null%2C%20%22ADM3ALT2AR%22%3A%20null%2C%20%22ADM3ALT2EN%22%3A%20null%2C%20%22ADM3_AR%22%3A%20%22%5Cu0634%5Cu064a%5Cu0627%5Cu062e%5Cu0629%20%5Cu0627%5Cu0644%5Cu062d%5Cu0649%20%5Cu0627%5Cu0644%5Cu0631%5Cu0627%5Cu0628%5Cu0639%22%2C%20%22ADM3_EN%22%3A%20null%2C%20%22ADM3_PCODE%22%3A%20%22EG014105%22%2C%20%22ADM3_REF%22%3A%20null%2C%20%22Shape_Area%22%3A%200.0007216295%2C%20%22Shape_Leng%22%3A%200.11638316908%2C%20%22date%22%3A%20%222006-01-01%22%2C%20%22validOn%22%3A%20%222017-04-21%22%2C%20%22validTo%22%3A%20null%7D%2C%20%22type%22%3A%20%22Feature%22%7D%2C%20%7B%22bbox%22%3A%20%5B31.687695831000042%2C%2030.110127887000033%2C%2031.730953473000056%2C%2030.13553806300007%5D%2C%20%22geometry%22%3A%20%7B%22coordinates%22%3A%20%5B%5B%5B31.73092599100005%2C%2030.126298001000066%5D%2C%20%5B31.730953473000056%2C%2030.12414927100008%5D%2C%20%5B31.729854808000027%2C%2030.110127887000033%5D%2C%20%5B31.724449924000055%2C%2030.110642363000068%5D%2C%20%5B31.68778516100008%2C%2030.114120847000038%5D%2C%20%5B31.687695831000042%2C%2030.120877241000073%5D%2C%20%5B31.692705870000054%2C%2030.127253515000064%5D%2C%20%5B31.692664191000063%2C%2030.130416230000037%5D%2C%20%5B31.694809810000038%2C%2030.133284408000065%5D%2C%20%5B31.698783217000027%2C%2030.13553806300007%5D%2C%20%5B31.701080026000056%2C%2030.134124632000066%5D%2C%20%5B31.700701353000056%2C%2030.133009936000064%5D%2C%20%5B31.70217030300006%2C%2030.13345175300003%5D%2C%20%5B31.703156685000067%2C%2030.133205132000057%5D%2C%20%5B31.70435083600006%2C%2030.132105972000033%5D%2C%20%5B31.70545333800004%2C%2030.13049313500005%5D%2C%20%5B31.71024673900007%2C%2030.13233494600007%5D%2C%20%5B31.73092599100005%2C%2030.126298001000066%5D%5D%5D%2C%20%22type%22%3A%20%22Polygon%22%7D%2C%20%22id%22%3A%20%2213%22%2C%20%22properties%22%3A%20%7B%22ADM0_AR%22%3A%20%22%5Cu0645%5Cu0650%5Cu0635%5Cu0631%22%2C%20%22ADM0_EN%22%3A%20%22Egypt%22%2C%20%22ADM0_PCODE%22%3A%20%22EG%22%2C%20%22ADM1_AR%22%3A%20%22%5Cu0627%5Cu0644%5Cu0642%5Cu0627%5Cu0647%5Cu0631%5Cu0629%22%2C%20%22ADM1_EN%22%3A%20%22Cairo%22%2C%20%22ADM1_PCODE%22%3A%20%22EG01%22%2C%20%22ADM2_AR%22%3A%20%22%5Cu0642%5Cu0633%5Cu0645%20%5Cu0628%5Cu062f%5Cu0631%22%2C%20%22ADM2_EN%22%3A%20%22Badr%22%2C%20%22ADM2_PCODE%22%3A%20%22EG0141%22%2C%20%22ADM3ALT1AR%22%3A%20null%2C%20%22ADM3ALT1EN%22%3A%20null%2C%20%22ADM3ALT2AR%22%3A%20null%2C%20%22ADM3ALT2EN%22%3A%20null%2C%20%22ADM3_AR%22%3A%20%22%5Cu0634%5Cu064a%5Cu0627%5Cu062e%5Cu0629%20%5Cu0627%5Cu0644%5Cu062d%5Cu0649%20%5Cu0627%5Cu0644%5Cu0645%5Cu062a%5Cu0645%5Cu064a%5Cu0632%22%2C%20%22ADM3_EN%22%3A%20null%2C%20%22ADM3_PCODE%22%3A%20%22EG014106%22%2C%20%22ADM3_REF%22%3A%20null%2C%20%22Shape_Area%22%3A%200.00077394188%2C%20%22Shape_Leng%22%3A%200.12132998498%2C%20%22date%22%3A%20%222006-01-01%22%2C%20%22validOn%22%3A%20%222017-04-21%22%2C%20%22validTo%22%3A%20null%7D%2C%20%22type%22%3A%20%22Feature%22%7D%2C%20%7B%22bbox%22%3A%20%5B31.558535239000037%2C%2030.10499221500004%2C%2031.610469031000036%2C%2030.181564452000032%5D%2C%20%22geometry%22%3A%20%7B%22coordinates%22%3A%20%5B%5B%5B31.610469031000036%2C%2030.115114111000025%5D%2C%20%5B31.60384818700004%2C%2030.11387419400006%5D%2C%20%5B31.593060689000026%2C%2030.10935587800003%5D%2C%20%5B31.590633839000077%2C%2030.10833921400007%5D%2C%20%5B31.583907387000068%2C%2030.106969588000027%5D%2C%20%5B31.574199543000077%2C%2030.10499221500004%5D%2C%20%5B31.55853525400005%2C%2030.175479949000078%5D%2C%20%5B31.558535239000037%2C%2030.175480015000062%5D%2C%20%5B31.565313435000064%2C%2030.175685180000073%5D%2C%20%5B31.567992700000048%2C%2030.17584394100004%5D%2C%20%5B31.57655154200006%2C%2030.176350761000037%5D%2C%20%5B31.59284008800006%2C%2030.17974629200006%5D%2C%20%5B31.601555919000077%2C%2030.181564452000032%5D%2C%20%5B31.602780350000046%2C%2030.175661878000028%5D%2C%20%5B31.599413541000047%2C%2030.174557312000047%5D%2C%20%5B31.603025247000062%2C%2030.15829889200006%5D%2C%20%5B31.60120727700007%2C%2030.156409377000045%5D%2C%20%5B31.610469031000036%2C%2030.115114111000025%5D%5D%5D%2C%20%22type%22%3A%20%22Polygon%22%7D%2C%20%22id%22%3A%20%2214%22%2C%20%22properties%22%3A%20%7B%22ADM0_AR%22%3A%20%22%5Cu0645%5Cu0650%5Cu0635%5Cu0631%22%2C%20%22ADM0_EN%22%3A%20%22Egypt%22%2C%20%22ADM0_PCODE%22%3A%20%22EG%22%2C%20%22ADM1_AR%22%3A%20%22%5Cu0627%5Cu0644%5Cu0642%5Cu0627%5Cu0647%5Cu0631%5Cu0629%22%2C%20%22ADM1_EN%22%3A%20%22Cairo%22%2C%20%22ADM1_PCODE%22%3A%20%22EG01%22%2C%20%22ADM2_AR%22%3A%20%22%5Cu0642%5Cu0633%5Cu0645%20%5Cu0627%5Cu0644%5Cu0634%5Cu0631%5Cu0648%5Cu0642%22%2C%20%22ADM2_EN%22%3A%20%22Shroq%22%2C%20%22ADM2_PCODE%22%3A%20%22EG0140%22%2C%20%22ADM3ALT1AR%22%3A%20null%2C%20%22ADM3ALT1EN%22%3A%20null%2C%20%22ADM3ALT2AR%22%3A%20null%2C%20%22ADM3ALT2EN%22%3A%20null%2C%20%22ADM3_AR%22%3A%20%22%5Cu0634%5Cu064a%5Cu0627%5Cu062e%5Cu0629%20%5Cu0627%5Cu0644%5Cu0634%5Cu0631%5Cu0648%5Cu0642%201%22%2C%20%22ADM3_EN%22%3A%20null%2C%20%22ADM3_PCODE%22%3A%20%22EG014001%22%2C%20%22ADM3_REF%22%3A%20null%2C%20%22Shape_Area%22%3A%200.00266857996%2C%20%22Shape_Leng%22%3A%200.22479249009%2C%20%22date%22%3A%20%222006-01-01%22%2C%20%22validOn%22%3A%20%222017-04-21%22%2C%20%22validTo%22%3A%20null%7D%2C%20%22type%22%3A%20%22Feature%22%7D%2C%20%7B%22bbox%22%3A%20%5B31.599413541000047%2C%2030.113614692000056%2C%2031.654150302000062%2C%2030.185096377000036%5D%2C%20%22geometry%22%3A%20%7B%22coordinates%22%3A%20%5B%5B%5B31.654150302000062%2C%2030.113614692000056%5D%2C%20%5B31.65231807400005%2C%2030.113780662000067%5D%2C%20%5B31.638271451000037%2C%2030.115052083000023%5D%2C%20%5B31.619297946000074%2C%2030.11676699700007%5D%2C%20%5B31.610469031000036%2C%2030.115114111000025%5D%2C%20%5B31.60120727700007%2C%2030.156409377000045%5D%2C%20%5B31.603025247000062%2C%2030.15829889200006%5D%2C%20%5B31.599413541000047%2C%2030.174557312000047%5D%2C%20%5B31.602780350000046%2C%2030.175661878000028%5D%2C%20%5B31.601555919000077%2C%2030.181564452000032%5D%2C%20%5B31.60268098100005%2C%2030.18179900800004%5D%2C%20%5B31.604907096000034%2C%2030.182260529000075%5D%2C%20%5B31.610009711000032%2C%2030.183438274000025%5D%2C%20%5B31.617193491000023%2C%2030.185096377000036%5D%2C%20%5B31.63413804000004%2C%2030.172022346000062%5D%2C%20%5B31.64176370200005%2C%2030.158268122000038%5D%2C%20%5B31.654150302000062%2C%2030.113614692000056%5D%5D%5D%2C%20%22type%22%3A%20%22Polygon%22%7D%2C%20%22id%22%3A%20%2215%22%2C%20%22properties%22%3A%20%7B%22ADM0_AR%22%3A%20%22%5Cu0645%5Cu0650%5Cu0635%5Cu0631%22%2C%20%22ADM0_EN%22%3A%20%22Egypt%22%2C%20%22ADM0_PCODE%22%3A%20%22EG%22%2C%20%22ADM1_AR%22%3A%20%22%5Cu0627%5Cu0644%5Cu0642%5Cu0627%5Cu0647%5Cu0631%5Cu0629%22%2C%20%22ADM1_EN%22%3A%20%22Cairo%22%2C%20%22ADM1_PCODE%22%3A%20%22EG01%22%2C%20%22ADM2_AR%22%3A%20%22%5Cu0642%5Cu0633%5Cu0645%20%5Cu0627%5Cu0644%5Cu0634%5Cu0631%5Cu0648%5Cu0642%22%2C%20%22ADM2_EN%22%3A%20%22Shroq%22%2C%20%22ADM2_PCODE%22%3A%20%22EG0140%22%2C%20%22ADM3ALT1AR%22%3A%20null%2C%20%22ADM3ALT1EN%22%3A%20null%2C%20%22ADM3ALT2AR%22%3A%20null%2C%20%22ADM3ALT2EN%22%3A%20null%2C%20%22ADM3_AR%22%3A%20%22%5Cu0634%5Cu064a%5Cu0627%5Cu062e%5Cu0629%20%5Cu0627%5Cu0644%5Cu0634%5Cu0631%5Cu0648%5Cu0642%202%22%2C%20%22ADM3_EN%22%3A%20null%2C%20%22ADM3_PCODE%22%3A%20%22EG014002%22%2C%20%22ADM3_REF%22%3A%20null%2C%20%22Shape_Area%22%3A%200.00259529151%2C%20%22Shape_Leng%22%3A%200.21464697293%2C%20%22date%22%3A%20%222006-01-01%22%2C%20%22validOn%22%3A%20%222017-04-21%22%2C%20%22validTo%22%3A%20null%7D%2C%20%22type%22%3A%20%22Feature%22%7D%2C%20%7B%22bbox%22%3A%20%5B31.724888262000036%2C%2030.106489470000042%2C%2031.76807858600006%2C%2030.171253015000048%5D%2C%20%22geometry%22%3A%20%7B%22coordinates%22%3A%20%5B%5B%5B31.729854808000027%2C%2030.110127887000033%5D%2C%20%5B31.730953473000056%2C%2030.12414927100008%5D%2C%20%5B31.73092599100005%2C%2030.126298001000066%5D%2C%20%5B31.730908975000034%2C%2030.127628336000043%5D%2C%20%5B31.728685383000027%2C%2030.130769977000057%5D%2C%20%5B31.726093737000042%2C%2030.134224343000028%5D%2C%20%5B31.72530095700006%2C%2030.139277697000068%5D%2C%20%5B31.724888262000036%2C%2030.143069472000036%5D%2C%20%5B31.725571349000063%2C%2030.146555586000034%5D%2C%20%5B31.73134940600005%2C%2030.150091029000066%5D%2C%20%5B31.740367152000033%2C%2030.15650422500005%5D%2C%20%5B31.750822053000036%2C%2030.164512072000036%5D%2C%20%5B31.75344631300004%2C%2030.170948059000068%5D%2C%20%5B31.753446344000054%2C%2030.17094813400007%5D%2C%20%5B31.756665100000077%2C%2030.171253015000048%5D%2C%20%5B31.760802743000056%2C%2030.171048378000023%5D%2C%20%5B31.76807858600006%2C%2030.106489470000042%5D%2C%20%5B31.729854808000027%2C%2030.110127887000033%5D%5D%5D%2C%20%22type%22%3A%20%22Polygon%22%7D%2C%20%22id%22%3A%20%2216%22%2C%20%22properties%22%3A%20%7B%22ADM0_AR%22%3A%20%22%5Cu0645%5Cu0650%5Cu0635%5Cu0631%22%2C%20%22ADM0_EN%22%3A%20%22Egypt%22%2C%20%22ADM0_PCODE%22%3A%20%22EG%22%2C%20%22ADM1_AR%22%3A%20%22%5Cu0627%5Cu0644%5Cu0642%5Cu0627%5Cu0647%5Cu0631%5Cu0629%22%2C%20%22ADM1_EN%22%3A%20%22Cairo%22%2C%20%22ADM1_PCODE%22%3A%20%22EG01%22%2C%20%22ADM2_AR%22%3A%20%22%5Cu0642%5Cu0633%5Cu0645%20%5Cu0628%5Cu062f%5Cu0631%22%2C%20%22ADM2_EN%22%3A%20%22Badr%22%2C%20%22ADM2_PCODE%22%3A%20%22EG0141%22%2C%20%22ADM3ALT1AR%22%3A%20null%2C%20%22ADM3ALT1EN%22%3A%20null%2C%20%22ADM3ALT2AR%22%3A%20null%2C%20%22ADM3ALT2EN%22%3A%20null%2C%20%22ADM3_AR%22%3A%20%22%5Cu0634%5Cu064a%5Cu0627%5Cu062e%5Cu0629%20%5Cu0627%5Cu0644%5Cu0645%5Cu0646%5Cu0637%5Cu0642%5Cu0629%20%5Cu0627%5Cu0644%5Cu0635%5Cu0646%5Cu0627%5Cu0639%5Cu064a%5Cu0629%20%5Cu0634%5Cu0631%5Cu0642%22%2C%20%22ADM3_EN%22%3A%20null%2C%20%22ADM3_PCODE%22%3A%20%22EG014108%22%2C%20%22ADM3_REF%22%3A%20null%2C%20%22Shape_Area%22%3A%200.00191094126%2C%20%22Shape_Leng%22%3A%200.18689224538%2C%20%22date%22%3A%20%222006-01-01%22%2C%20%22validOn%22%3A%20%222017-04-21%22%2C%20%22validTo%22%3A%20null%7D%2C%20%22type%22%3A%20%22Feature%22%7D%2C%20%7B%22bbox%22%3A%20%5B31.714261418000035%2C%2030.143069472000036%2C%2031.753446344000054%2C%2030.17094813400007%5D%2C%20%22geometry%22%3A%20%7B%22coordinates%22%3A%20%5B%5B%5B31.724888262000036%2C%2030.143069472000036%5D%2C%20%5B31.723424528000066%2C%2030.14368788300004%5D%2C%20%5B31.717966042000057%2C%2030.143634682000027%5D%2C%20%5B31.715034337000077%2C%2030.145187590000035%5D%2C%20%5B31.714261418000035%2C%2030.148659475000045%5D%2C%20%5B31.715283474000046%2C%2030.154046830000027%5D%2C%20%5B31.715553131000036%2C%2030.161324707000063%5D%2C%20%5B31.71610859900005%2C%2030.16981147300004%5D%2C%20%5B31.71610878100006%2C%2030.169814246000044%5D%2C%20%5B31.73473419900006%2C%2030.166034479000075%5D%2C%20%5B31.74751558300005%2C%2030.170386165000025%5D%2C%20%5B31.753446344000054%2C%2030.17094813400007%5D%2C%20%5B31.75344631300004%2C%2030.170948059000068%5D%2C%20%5B31.750822053000036%2C%2030.164512072000036%5D%2C%20%5B31.740367152000033%2C%2030.15650422500005%5D%2C%20%5B31.73134940600005%2C%2030.150091029000066%5D%2C%20%5B31.725571349000063%2C%2030.146555586000034%5D%2C%20%5B31.724888262000036%2C%2030.143069472000036%5D%5D%5D%2C%20%22type%22%3A%20%22Polygon%22%7D%2C%20%22id%22%3A%20%2217%22%2C%20%22properties%22%3A%20%7B%22ADM0_AR%22%3A%20%22%5Cu0645%5Cu0650%5Cu0635%5Cu0631%22%2C%20%22ADM0_EN%22%3A%20%22Egypt%22%2C%20%22ADM0_PCODE%22%3A%20%22EG%22%2C%20%22ADM1_AR%22%3A%20%22%5Cu0627%5Cu0644%5Cu0642%5Cu0627%5Cu0647%5Cu0631%5Cu0629%22%2C%20%22ADM1_EN%22%3A%20%22Cairo%22%2C%20%22ADM1_PCODE%22%3A%20%22EG01%22%2C%20%22ADM2_AR%22%3A%20%22%5Cu0642%5Cu0633%5Cu0645%20%5Cu0628%5Cu062f%5Cu0631%22%2C%20%22ADM2_EN%22%3A%20%22Badr%22%2C%20%22ADM2_PCODE%22%3A%20%22EG0141%22%2C%20%22ADM3ALT1AR%22%3A%20null%2C%20%22ADM3ALT1EN%22%3A%20null%2C%20%22ADM3ALT2AR%22%3A%20null%2C%20%22ADM3ALT2EN%22%3A%20null%2C%20%22ADM3_AR%22%3A%20%22%5Cu0634%5Cu064a%5Cu0627%5Cu062e%5Cu0629%20%5Cu0627%5Cu0644%5Cu0645%5Cu0646%5Cu0637%5Cu0642%5Cu0629%20%5Cu0627%5Cu0644%5Cu0635%5Cu0646%5Cu0627%5Cu0639%5Cu064a%5Cu0629%20%5Cu0648%5Cu0645%5Cu0646%22%2C%20%22ADM3_EN%22%3A%20null%2C%20%22ADM3_PCODE%22%3A%20%22EG014107%22%2C%20%22ADM3_REF%22%3A%20null%2C%20%22Shape_Area%22%3A%200.00059143866%2C%20%22Shape_Leng%22%3A%200.11517229902%2C%20%22date%22%3A%20%222006-01-01%22%2C%20%22validOn%22%3A%20%222017-04-21%22%2C%20%22validTo%22%3A%20null%7D%2C%20%22type%22%3A%20%22Feature%22%7D%2C%20%7B%22bbox%22%3A%20%5B31.617193491000023%2C%2030.113614692000056%2C%2031.67514165700004%2C%2030.185096377000036%5D%2C%20%22geometry%22%3A%20%7B%22coordinates%22%3A%20%5B%5B%5B31.65610347100005%2C%2030.18071560900006%5D%2C%20%5B31.656103488000042%2C%2030.180715546000044%5D%2C%20%5B31.65748224400005%2C%2030.17560995900004%5D%2C%20%5B31.661125937000065%2C%2030.14844448200006%5D%2C%20%5B31.66337760400006%2C%2030.143406454000058%5D%2C%20%5B31.666439534000062%2C%2030.140355433000025%5D%2C%20%5B31.67186148600007%2C%2030.13495213400006%5D%2C%20%5B31.67514165700004%2C%2030.114111217000072%5D%2C%20%5B31.654150302000062%2C%2030.113614692000056%5D%2C%20%5B31.64176370200005%2C%2030.158268122000038%5D%2C%20%5B31.63413804000004%2C%2030.172022346000062%5D%2C%20%5B31.617193491000023%2C%2030.185096377000036%5D%2C%20%5B31.637524822000046%2C%2030.18425243200005%5D%2C%20%5B31.642228558000056%2C%2030.183438274000025%5D%2C%20%5B31.65385586900004%2C%2030.181425734000072%5D%2C%20%5B31.65610347100005%2C%2030.18071560900006%5D%5D%5D%2C%20%22type%22%3A%20%22Polygon%22%7D%2C%20%22id%22%3A%20%2218%22%2C%20%22properties%22%3A%20%7B%22ADM0_AR%22%3A%20%22%5Cu0645%5Cu0650%5Cu0635%5Cu0631%22%2C%20%22ADM0_EN%22%3A%20%22Egypt%22%2C%20%22ADM0_PCODE%22%3A%20%22EG%22%2C%20%22ADM1_AR%22%3A%20%22%5Cu0627%5Cu0644%5Cu0642%5Cu0627%5Cu0647%5Cu0631%5Cu0629%22%2C%20%22ADM1_EN%22%3A%20%22Cairo%22%2C%20%22ADM1_PCODE%22%3A%20%22EG01%22%2C%20%22ADM2_AR%22%3A%20%22%5Cu0642%5Cu0633%5Cu0645%20%5Cu0628%5Cu062f%5Cu0631%22%2C%20%22ADM2_EN%22%3A%20%22Badr%22%2C%20%22ADM2_PCODE%22%3A%20%22EG0141%22%2C%20%22ADM3ALT1AR%22%3A%20null%2C%20%22ADM3ALT1EN%22%3A%20null%2C%20%22ADM3ALT2AR%22%3A%20null%2C%20%22ADM3ALT2EN%22%3A%20null%2C%20%22ADM3_AR%22%3A%20%22%5Cu0634%5Cu064a%5Cu0627%5Cu062e%5Cu0629%20%5Cu0628%5Cu062f%5Cu0631%201%22%2C%20%22ADM3_EN%22%3A%20null%2C%20%22ADM3_PCODE%22%3A%20%22EG014101%22%2C%20%22ADM3_REF%22%3A%20null%2C%20%22Shape_Area%22%3A%200.00154253174%2C%20%22Shape_Leng%22%3A%200.215035612%2C%20%22date%22%3A%20%222006-01-01%22%2C%20%22validOn%22%3A%20%222017-04-21%22%2C%20%22validTo%22%3A%20null%7D%2C%20%22type%22%3A%20%22Feature%22%7D%5D%2C%20%22type%22%3A%20%22FeatureCollection%22%7D%29%3B%0A%0A%20%20%20%20%20%20%20%20%0A%20%20%20%20%0A%20%20%20%20geo_json_69b8503624a044c585a7395272a5647f.bindTooltip%28%0A%20%20%20%20function%28layer%29%7B%0A%20%20%20%20let%20div%20%3D%20L.DomUtil.create%28%27div%27%29%3B%0A%20%20%20%20%0A%20%20%20%20let%20handleObject%20%3D%20feature%3D%3Etypeof%28feature%29%3D%3D%27object%27%20%3F%20JSON.stringify%28feature%29%20%3A%20feature%3B%0A%20%20%20%20let%20fields%20%3D%20%5B%22ADM3_EN%22%2C%20%22ADM3_AR%22%2C%20%22ADM3_PCODE%22%2C%20%22ADM3_REF%22%2C%20%22ADM3ALT1EN%22%2C%20%22ADM3ALT2EN%22%2C%20%22ADM3ALT1AR%22%2C%20%22ADM3ALT2AR%22%2C%20%22ADM2_EN%22%2C%20%22ADM2_AR%22%2C%20%22ADM2_PCODE%22%2C%20%22ADM1_EN%22%2C%20%22ADM1_AR%22%2C%20%22ADM1_PCODE%22%2C%20%22ADM0_EN%22%2C%20%22ADM0_AR%22%2C%20%22ADM0_PCODE%22%2C%20%22date%22%2C%20%22validOn%22%2C%20%22validTo%22%2C%20%22Shape_Leng%22%2C%20%22Shape_Area%22%5D%3B%0A%20%20%20%20let%20aliases%20%3D%20%5B%22ADM3_EN%22%2C%20%22ADM3_AR%22%2C%20%22ADM3_PCODE%22%2C%20%22ADM3_REF%22%2C%20%22ADM3ALT1EN%22%2C%20%22ADM3ALT2EN%22%2C%20%22ADM3ALT1AR%22%2C%20%22ADM3ALT2AR%22%2C%20%22ADM2_EN%22%2C%20%22ADM2_AR%22%2C%20%22ADM2_PCODE%22%2C%20%22ADM1_EN%22%2C%20%22ADM1_AR%22%2C%20%22ADM1_PCODE%22%2C%20%22ADM0_EN%22%2C%20%22ADM0_AR%22%2C%20%22ADM0_PCODE%22%2C%20%22date%22%2C%20%22validOn%22%2C%20%22validTo%22%2C%20%22Shape_Leng%22%2C%20%22Shape_Area%22%5D%3B%0A%20%20%20%20let%20table%20%3D%20%27%3Ctable%3E%27%20%2B%0A%20%20%20%20%20%20%20%20String%28%0A%20%20%20%20%20%20%20%20fields.map%28%0A%20%20%20%20%20%20%20%20%28v%2Ci%29%3D%3E%0A%20%20%20%20%20%20%20%20%60%3Ctr%3E%0A%20%20%20%20%20%20%20%20%20%20%20%20%3Cth%3E%24%7Baliases%5Bi%5D%7D%3C/th%3E%0A%20%20%20%20%20%20%20%20%20%20%20%20%0A%20%20%20%20%20%20%20%20%20%20%20%20%3Ctd%3E%24%7BhandleObject%28layer.feature.properties%5Bv%5D%29%7D%3C/td%3E%0A%20%20%20%20%20%20%20%20%3C/tr%3E%60%29.join%28%27%27%29%29%0A%20%20%20%20%2B%27%3C/table%3E%27%3B%0A%20%20%20%20div.innerHTML%3Dtable%3B%0A%20%20%20%20%0A%20%20%20%20return%20div%0A%20%20%20%20%7D%0A%20%20%20%20%2C%7B%22className%22%3A%20%22foliumtooltip%22%2C%20%22sticky%22%3A%20true%7D%29%3B%0A%20%20%20%20%20%20%20%20%20%20%20%20%20%20%20%20%20%20%20%20%20%0A%3C/script%3E onload=\"this.contentDocument.open();this.contentDocument.write(    decodeURIComponent(this.getAttribute('data-html')));this.contentDocument.close();\" allowfullscreen webkitallowfullscreen mozallowfullscreen></iframe></div></div>"
      ],
      "text/plain": [
       "<folium.folium.Map at 0x2872052a1f0>"
      ]
     },
     "execution_count": 80,
     "metadata": {},
     "output_type": "execute_result"
    }
   ],
   "source": [
    "poly.explore()"
   ]
  },
  {
   "cell_type": "code",
   "execution_count": null,
   "metadata": {},
   "outputs": [],
   "source": []
  }
 ],
 "metadata": {
  "interpreter": {
   "hash": "c2c3639f316740832002486dd26ba6b6250f1d86931da03b63eb8e91805d4fe1"
  },
  "kernelspec": {
   "display_name": "Python 3.9.10 64-bit",
   "language": "python",
   "name": "python3"
  },
  "language_info": {
   "codemirror_mode": {
    "name": "ipython",
    "version": 3
   },
   "file_extension": ".py",
   "mimetype": "text/x-python",
   "name": "python",
   "nbconvert_exporter": "python",
   "pygments_lexer": "ipython3",
   "version": "3.9.10"
  },
  "orig_nbformat": 4
 },
 "nbformat": 4,
 "nbformat_minor": 2
}
