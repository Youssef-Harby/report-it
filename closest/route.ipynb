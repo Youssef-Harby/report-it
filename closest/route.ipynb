{
 "cells": [
  {
   "cell_type": "code",
   "execution_count": 1,
   "metadata": {},
   "outputs": [
    {
     "name": "stderr",
     "output_type": "stream",
     "text": [
      "C:\\Users\\khale\\AppData\\Local\\Programs\\Python\\Python39\\lib\\site-packages\\geopandas\\_compat.py:111: UserWarning: The Shapely GEOS version (3.10.2-CAPI-1.16.0) is incompatible with the GEOS version PyGEOS was compiled with (3.10.1-CAPI-1.16.0). Conversions between both will be slow.\n",
      "  warnings.warn(\n"
     ]
    }
   ],
   "source": [
    "import geopandas"
   ]
  },
  {
   "cell_type": "code",
   "execution_count": null,
   "metadata": {},
   "outputs": [],
   "source": [
    "fires = geopandas.read_file(\"../Data/Facilities/DemoCairo.gpkg\", layer='fire').to_crs(\"EPSG:3857\") #Point\n",
    "facilities = geopandas.read_file(\"../Data/Facilities/DemoCairo.gpkg\", layer='facilities').to_crs(\"EPSG:3857\") #Point\n",
    "admin_poly = geopandas.read_file(\"../Data/Facilities/DemoCairo.gpkg\", layer='NewCairoPolyDemo').to_crs(\"EPSG:3857\") #Polygon\n",
    "fires.head(50)\n",
    "facilities.head(50)"
   ]
  },
  {
   "cell_type": "code",
   "execution_count": null,
   "metadata": {},
   "outputs": [],
   "source": [
    "fac_And_Admin = geopandas.sjoin(facilities,admin_poly[['adm3_ar', 'geometry']], how='left')\n",
    "fac_And_Admin.rename_geometry('fac_geo', inplace=True)\n",
    "fac_And_Admin_for_fire = fac_And_Admin.loc[fac_And_Admin['type']=='Fire']\n",
    "fac_And_Admin_for_fire = fac_And_Admin.loc[fac_And_Admin['adm3_ar']=='Industrial Region East']\n",
    "toto = fac_And_Admin_for_fire.to_crs(\"EPSG:4326\")\n",
    "toto['fac_lat'] = toto['fac_geo'].y\n",
    "toto['fac_lon'] = toto['fac_geo'].x\n",
    "geometry = geopandas.points_from_xy(toto.fac_lon, toto.fac_lat)\n",
    "geo_df_list = [[point.xy[0][0], point.xy[1][0]] for point in toto.fac_geo]\n",
    "print(geo_df_list)\n",
    "\n",
    "facdest=geo_df_list[0]"
   ]
  },
  {
   "cell_type": "code",
   "execution_count": null,
   "metadata": {},
   "outputs": [],
   "source": [
    "from xml.etree.ElementTree import tostring\n",
    "import requests\n",
    "import json"
   ]
  },
  {
   "cell_type": "code",
   "execution_count": null,
   "metadata": {},
   "outputs": [],
   "source": [
    "body = {\"locations\":[[31.625347137451172,30.087662159514313],facdest,[31.125184898206078,30.545245933532715]],\"destinations\":[0],\"metrics\":[\"duration\",\"distance\"],\"sources\":[1,2],\"units\":\"m\"}\n",
    "\n",
    "headers = {\n",
    "    'Accept': 'application/json, application/geo+json, application/gpx+xml, img/png; charset=utf-8',\n",
    "    'Authorization': '5b3ce3597851110001cf62487ad6039a4daa436d88a8a4ff481a40f9',\n",
    "    'Content-Type': 'application/json; charset=utf-8'\n",
    "}\n",
    "call = requests.post('https://api.openrouteservice.org/v2/matrix/driving-car', json=body, headers=headers)\n",
    "\n"
   ]
  },
  {
   "cell_type": "code",
   "execution_count": null,
   "metadata": {},
   "outputs": [],
   "source": [
    "print(call.status_code, call.reason)\n",
    "print(call.text)\n",
    "res = json.loads(call.text)\n",
    "x=res['sources']\n",
    "z=[]\n",
    "for p in x:\n",
    "    y=p['snapped_distance']\n",
    "    z.append(y)\n",
    "print(z)\n",
    "z.sort()\n",
    "m=z[0]\n",
    "\n",
    "for i in x:\n",
    "    if i['snapped_distance']==m:\n",
    "        k=i['location']\n",
    "\n",
    "print(res)\n",
    "print('----------------------------')\n",
    "print('closest facility:')        \n",
    "print(k)\n",
    "\n",
    "h=[31.625347137451172,30.087662159514313]\n",
    "q=k[0]\n",
    "w=k[1]\n",
    "\n",
    "r=h[0]\n",
    "t=h[1]\n",
    "print(q)"
   ]
  },
  {
   "cell_type": "code",
   "execution_count": null,
   "metadata": {},
   "outputs": [],
   "source": [
    "headers = {\n",
    "    'Accept': 'application/json, application/geo+json, application/gpx+xml, img/png; charset=utf-8',\n",
    "}\n",
    "call = requests.get('https://api.openrouteservice.org/v2/directions/driving-car?api_key=5b3ce3597851110001cf62487ad6039a4daa436d88a8a4ff481a40f9&start={},{}&end={},{}'.format(q,w,r,t), headers=headers)\n",
    "\n",
    "print(call.status_code, call.reason)\n",
    "print(call.text)"
   ]
  }
 ],
 "metadata": {
  "interpreter": {
   "hash": "1433b28748430622c834d343d8c99e15c2b30b2ce25f840a51edb77918661909"
  },
  "kernelspec": {
   "display_name": "Python 3.9.10 64-bit",
   "language": "python",
   "name": "python3"
  },
  "language_info": {
   "codemirror_mode": {
    "name": "ipython",
    "version": 3
   },
   "file_extension": ".py",
   "mimetype": "text/x-python",
   "name": "python",
   "nbconvert_exporter": "python",
   "pygments_lexer": "ipython3",
   "version": "3.9.10"
  },
  "orig_nbformat": 4
 },
 "nbformat": 4,
 "nbformat_minor": 2
}
